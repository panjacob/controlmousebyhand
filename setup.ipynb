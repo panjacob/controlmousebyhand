{
 "cells": [
  {
   "cell_type": "code",
   "execution_count": 1,
   "metadata": {
    "id": "146BB11JpfDA",
    "pycharm": {
     "name": "#%%\n"
    }
   },
   "outputs": [],
   "source": [
    "import os\n",
    "import wget\n",
    "import cv2\n",
    "from utilis import CUSTOM_MODEL_NAME, PRETRAINED_MODEL_NAME, PRETRAINED_MODEL_URL, TF_RECORD_SCRIPT_NAME\n",
    "from utilis import LABEL_MAP_NAME, paths, files, labels\n",
    "import cv2 as cv\n",
    "import time\n",
    "import uuid"
   ]
  },
  {
   "cell_type": "markdown",
   "source": [
    "### 0. Get images"
   ],
   "metadata": {
    "collapsed": false,
    "pycharm": {
     "name": "#%% md\n"
    }
   }
  },
  {
   "cell_type": "code",
   "execution_count": 2,
   "outputs": [
    {
     "name": "stdout",
     "output_type": "stream",
     "text": [
      "Picture saved!\n"
     ]
    }
   ],
   "source": [
    "cap = cv.VideoCapture(0)\n",
    "openPath = os.path.join('images', 'click')\n",
    "start = time.time()\n",
    "\n",
    "while True:\n",
    "    # Capture frame-by-frame\n",
    "    ret, frame = cap.read()\n",
    "    img = cv.cvtColor(frame, cv.COLOR_BGR2RGB)\n",
    "    img = cv.flip(img, 1)\n",
    "    cv.imshow('frame', img)\n",
    "    if cv.waitKey(1) == ord('q'):\n",
    "        break\n",
    "\n",
    "    now = time.time()\n",
    "    if now - start > 3.:\n",
    "        print(\"Picture saved!\")\n",
    "        cv.imwrite(os.path.join(openPath, f\"{str(uuid.uuid4())[:7]}.jpg\"), img)\n",
    "        start = time.time()\n",
    "\n",
    "cap.release()\n",
    "cv.destroyAllWindows()"
   ],
   "metadata": {
    "collapsed": false,
    "pycharm": {
     "name": "#%%\n"
    }
   }
  },
  {
   "cell_type": "code",
   "execution_count": 2,
   "metadata": {
    "id": "HR-TfDGrpfDC",
    "pycharm": {
     "name": "#%%\n"
    }
   },
   "outputs": [],
   "source": [
    "for path in paths.values():\n",
    "    if not os.path.exists(path):\n",
    "        if os.name == 'posix':\n",
    "            !mkdir -p {path}\n",
    "        if os.name == 'nt':\n",
    "            !mkdir {path}"
   ]
  },
  {
   "cell_type": "markdown",
   "metadata": {
    "id": "OLU-rs_ipfDE",
    "pycharm": {
     "name": "#%% md\n"
    }
   },
   "source": [
    "# 1. Download TF Models Pretrained Models from Tensorflow Model Zoo and Install TFOD"
   ]
  },
  {
   "cell_type": "code",
   "execution_count": 4,
   "metadata": {
    "id": "iA1DIq5OpfDE",
    "pycharm": {
     "name": "#%%\n"
    }
   },
   "outputs": [
    {
     "name": "stdout",
     "output_type": "stream",
     "text": [
      "Cloning into 'Tensorflow/models'...\r\n",
      "remote: Enumerating objects: 75693, done.\u001B[K\r\n",
      "remote: Counting objects: 100% (155/155), done.\u001B[K\r\n",
      "remote: Compressing objects: 100% (98/98), done.\u001B[K\r\n",
      "remote: Total 75693 (delta 86), reused 108 (delta 56), pack-reused 75538\u001B[K\r\n",
      "Receiving objects: 100% (75693/75693), 580.72 MiB | 20.43 MiB/s, done.\r\n",
      "Resolving deltas: 100% (53725/53725), done.\r\n"
     ]
    }
   ],
   "source": [
    "if not os.path.exists(os.path.join(paths['APIMODEL_PATH'], 'research', 'object_detection')):\n",
    "    !git clone https: // github.com / tensorflow / models {paths['APIMODEL_PATH']}"
   ]
  },
  {
   "cell_type": "markdown",
   "metadata": {
    "pycharm": {
     "name": "#%% md\n"
    }
   },
   "source": [
    "### Install Tensorflow Object Detection "
   ]
  },
  {
   "cell_type": "code",
   "execution_count": 5,
   "metadata": {
    "id": "rJjMHbnDs3Tv",
    "pycharm": {
     "name": "#%%\n"
    }
   },
   "outputs": [
    {
     "name": "stdout",
     "output_type": "stream",
     "text": [
      "E: Could not open lock file /var/lib/dpkg/lock-frontend - open (13: Permission denied)\r\n",
      "E: Unable to acquire the dpkg frontend lock (/var/lib/dpkg/lock-frontend), are you root?\r\n",
      "Processing /media/panjacob/ssd2/Magisterka/Tensorflow/models/research\r\n",
      "  Preparing metadata (setup.py) ... \u001B[?25ldone\r\n",
      "\u001B[?25hCollecting avro-python3\r\n",
      "  Using cached avro_python3-1.10.2-py3-none-any.whl\r\n",
      "Collecting apache-beam\r\n",
      "  Using cached apache_beam-2.40.0-py3-none-any.whl\r\n",
      "Requirement already satisfied: pillow in /media/panjacob/ssd2/Magisterka/venv/lib/python3.10/site-packages (from object-detection==0.1) (9.2.0)\r\n",
      "Requirement already satisfied: lxml in /media/panjacob/ssd2/Magisterka/venv/lib/python3.10/site-packages (from object-detection==0.1) (4.9.1)\r\n",
      "Requirement already satisfied: matplotlib in /media/panjacob/ssd2/Magisterka/venv/lib/python3.10/site-packages (from object-detection==0.1) (3.5.2)\r\n",
      "Requirement already satisfied: Cython in /media/panjacob/ssd2/Magisterka/venv/lib/python3.10/site-packages (from object-detection==0.1) (0.29.32)\r\n",
      "Requirement already satisfied: contextlib2 in /media/panjacob/ssd2/Magisterka/venv/lib/python3.10/site-packages (from object-detection==0.1) (21.6.0)\r\n",
      "Collecting tf-slim\r\n",
      "  Using cached tf_slim-1.1.0-py2.py3-none-any.whl (352 kB)\r\n",
      "Requirement already satisfied: six in /media/panjacob/ssd2/Magisterka/venv/lib/python3.10/site-packages (from object-detection==0.1) (1.16.0)\r\n",
      "Collecting pycocotools\r\n",
      "  Using cached pycocotools-2.0.4-cp310-cp310-linux_x86_64.whl\r\n",
      "Collecting lvis\r\n",
      "  Using cached lvis-0.5.3-py3-none-any.whl (14 kB)\r\n",
      "Requirement already satisfied: scipy in /media/panjacob/ssd2/Magisterka/venv/lib/python3.10/site-packages (from object-detection==0.1) (1.9.0)\r\n",
      "Collecting pandas\r\n",
      "  Using cached pandas-1.4.3-cp310-cp310-manylinux_2_17_x86_64.manylinux2014_x86_64.whl (11.6 MB)\r\n",
      "Collecting tf-models-official>=2.5.1\r\n",
      "  Using cached tf_models_official-2.9.2-py2.py3-none-any.whl (2.1 MB)\r\n",
      "Collecting tensorflow_io\r\n",
      "  Using cached tensorflow_io-0.26.0-cp310-cp310-manylinux_2_12_x86_64.manylinux2010_x86_64.whl (25.9 MB)\r\n",
      "Requirement already satisfied: keras in /media/panjacob/ssd2/Magisterka/venv/lib/python3.10/site-packages (from object-detection==0.1) (2.9.0)\r\n",
      "Collecting pyparsing==2.4.7\r\n",
      "  Using cached pyparsing-2.4.7-py2.py3-none-any.whl (67 kB)\r\n",
      "Collecting tensorflow-datasets\r\n",
      "  Using cached tensorflow_datasets-4.6.0-py3-none-any.whl (4.3 MB)\r\n",
      "Collecting kaggle>=1.3.9\r\n",
      "  Using cached kaggle-1.5.12-py3-none-any.whl\r\n",
      "Collecting tensorflow-addons\r\n",
      "  Using cached tensorflow_addons-0.17.1-cp310-cp310-manylinux_2_17_x86_64.manylinux2014_x86_64.whl (1.1 MB)\r\n",
      "Requirement already satisfied: numpy>=1.20 in /media/panjacob/ssd2/Magisterka/venv/lib/python3.10/site-packages (from tf-models-official>=2.5.1->object-detection==0.1) (1.23.1)\r\n",
      "Collecting tensorflow-text~=2.9.0\r\n",
      "  Using cached tensorflow_text-2.9.0-cp310-cp310-manylinux_2_17_x86_64.manylinux2014_x86_64.whl (4.6 MB)\r\n",
      "Requirement already satisfied: tensorflow~=2.9.0 in /media/panjacob/ssd2/Magisterka/venv/lib/python3.10/site-packages (from tf-models-official>=2.5.1->object-detection==0.1) (2.9.1)\r\n",
      "Collecting sacrebleu\r\n",
      "  Using cached sacrebleu-2.2.0-py3-none-any.whl (116 kB)\r\n",
      "Collecting seqeval\r\n",
      "  Using cached seqeval-1.2.2-py3-none-any.whl\r\n",
      "Collecting gin-config\r\n",
      "  Using cached gin_config-0.5.0-py3-none-any.whl (61 kB)\r\n",
      "Requirement already satisfied: psutil>=5.4.3 in /media/panjacob/ssd2/Magisterka/venv/lib/python3.10/site-packages (from tf-models-official>=2.5.1->object-detection==0.1) (5.9.1)\r\n",
      "Collecting py-cpuinfo>=3.3.0\r\n",
      "  Using cached py_cpuinfo-8.0.0-py3-none-any.whl\r\n",
      "Collecting sentencepiece\r\n",
      "  Using cached sentencepiece-0.1.96-cp310-cp310-manylinux_2_17_x86_64.manylinux2014_x86_64.whl (1.2 MB)\r\n",
      "Collecting opencv-python-headless\r\n",
      "  Using cached opencv_python_headless-4.6.0.66-cp36-abi3-manylinux_2_17_x86_64.manylinux2014_x86_64.whl (48.3 MB)\r\n",
      "Collecting google-api-python-client>=1.6.7\r\n",
      "  Downloading google_api_python_client-2.55.0-py2.py3-none-any.whl (8.8 MB)\r\n",
      "     |████████████████████████████████| 8.8 MB 9.4 MB/s            \r\n",
      "\u001B[?25hCollecting tensorflow-model-optimization>=0.4.1\r\n",
      "  Using cached tensorflow_model_optimization-0.7.3-py2.py3-none-any.whl (238 kB)\r\n",
      "Collecting oauth2client\r\n",
      "  Using cached oauth2client-4.1.3-py2.py3-none-any.whl (98 kB)\r\n",
      "Collecting tensorflow-hub>=0.6.0\r\n",
      "  Using cached tensorflow_hub-0.12.0-py2.py3-none-any.whl (108 kB)\r\n",
      "Collecting pyyaml<6.0,>=5.1\r\n",
      "  Using cached PyYAML-5.4.1-cp310-cp310-linux_x86_64.whl\r\n",
      "Requirement already satisfied: python-dateutil>=2.8.1 in /media/panjacob/ssd2/Magisterka/venv/lib/python3.10/site-packages (from pandas->object-detection==0.1) (2.8.2)\r\n",
      "Requirement already satisfied: pytz>=2020.1 in /media/panjacob/ssd2/Magisterka/venv/lib/python3.10/site-packages (from pandas->object-detection==0.1) (2022.1)\r\n",
      "Requirement already satisfied: absl-py>=0.2.2 in /media/panjacob/ssd2/Magisterka/venv/lib/python3.10/site-packages (from tf-slim->object-detection==0.1) (1.2.0)\r\n",
      "Requirement already satisfied: grpcio<2,>=1.33.1 in /media/panjacob/ssd2/Magisterka/venv/lib/python3.10/site-packages (from apache-beam->object-detection==0.1) (1.48.0)\r\n",
      "Collecting crcmod<2.0,>=1.7\r\n",
      "  Using cached crcmod-1.7-py3-none-any.whl\r\n",
      "Collecting cloudpickle<3,>=2.1.0\r\n",
      "  Using cached cloudpickle-2.1.0-py3-none-any.whl (25 kB)\r\n",
      "Requirement already satisfied: typing-extensions>=3.7.0 in /media/panjacob/ssd2/Magisterka/venv/lib/python3.10/site-packages (from apache-beam->object-detection==0.1) (4.3.0)\r\n",
      "Requirement already satisfied: protobuf<4,>=3.12.2 in /media/panjacob/ssd2/Magisterka/venv/lib/python3.10/site-packages (from apache-beam->object-detection==0.1) (3.19.4)\r\n",
      "Collecting pydot<2,>=1.2.0\r\n",
      "  Using cached pydot-1.4.2-py2.py3-none-any.whl (21 kB)\r\n",
      "Collecting httplib2<0.21.0,>=0.8\r\n",
      "  Using cached httplib2-0.20.4-py3-none-any.whl (96 kB)\r\n",
      "Collecting orjson<4.0\r\n",
      "  Using cached orjson-3.7.8-cp310-cp310-manylinux_2_28_x86_64.whl (273 kB)\r\n",
      "Collecting pyarrow<8.0.0,>=0.15.1\r\n",
      "  Using cached pyarrow-7.0.0-cp310-cp310-manylinux_2_17_x86_64.manylinux2014_x86_64.whl (26.7 MB)\r\n",
      "Collecting fastavro<2,>=0.23.6\r\n",
      "  Using cached fastavro-1.5.3-cp310-cp310-manylinux_2_17_x86_64.manylinux2014_x86_64.whl (2.6 MB)\r\n",
      "Collecting dill<0.3.2,>=0.3.1.1\r\n",
      "  Using cached dill-0.3.1.1-py3-none-any.whl\r\n",
      "Collecting proto-plus<2,>=1.7.1\r\n",
      "  Using cached proto_plus-1.20.6-py3-none-any.whl (46 kB)\r\n",
      "Requirement already satisfied: requests<3.0.0,>=2.24.0 in /media/panjacob/ssd2/Magisterka/venv/lib/python3.10/site-packages (from apache-beam->object-detection==0.1) (2.28.1)\r\n",
      "Collecting pymongo<4.0.0,>=3.8.0\r\n",
      "  Using cached pymongo-3.12.3-cp310-cp310-manylinux_2_17_x86_64.manylinux2014_x86_64.whl (517 kB)\r\n",
      "Collecting hdfs<3.0.0,>=2.1.0\r\n",
      "  Using cached hdfs-2.7.0-py3-none-any.whl (34 kB)\r\n",
      "Collecting numpy>=1.20\r\n",
      "  Using cached numpy-1.22.4-cp310-cp310-manylinux_2_17_x86_64.manylinux2014_x86_64.whl (16.8 MB)\r\n",
      "Requirement already satisfied: kiwisolver>=1.1.0 in /media/panjacob/ssd2/Magisterka/venv/lib/python3.10/site-packages (from lvis->object-detection==0.1) (1.4.4)\r\n",
      "Requirement already satisfied: cycler>=0.10.0 in /media/panjacob/ssd2/Magisterka/venv/lib/python3.10/site-packages (from lvis->object-detection==0.1) (0.11.0)\r\n",
      "Requirement already satisfied: opencv-python>=4.1.0.25 in /media/panjacob/ssd2/Magisterka/venv/lib/python3.10/site-packages (from lvis->object-detection==0.1) (4.6.0.66)\r\n",
      "Requirement already satisfied: fonttools>=4.22.0 in /media/panjacob/ssd2/Magisterka/venv/lib/python3.10/site-packages (from matplotlib->object-detection==0.1) (4.34.4)\r\n",
      "Requirement already satisfied: packaging>=20.0 in /media/panjacob/ssd2/Magisterka/venv/lib/python3.10/site-packages (from matplotlib->object-detection==0.1) (21.3)\r\n",
      "Requirement already satisfied: tensorflow-io-gcs-filesystem==0.26.0 in /media/panjacob/ssd2/Magisterka/venv/lib/python3.10/site-packages (from tensorflow_io->object-detection==0.1) (0.26.0)\r\n",
      "Collecting google-auth-httplib2>=0.1.0\r\n",
      "  Using cached google_auth_httplib2-0.1.0-py2.py3-none-any.whl (9.3 kB)\r\n",
      "Collecting uritemplate<5,>=3.0.1\r\n",
      "  Using cached uritemplate-4.1.1-py2.py3-none-any.whl (10 kB)\r\n",
      "Collecting google-api-core!=2.0.*,!=2.1.*,!=2.2.*,!=2.3.0,<3.0.0dev,>=1.31.5\r\n",
      "  Using cached google_api_core-2.8.2-py3-none-any.whl (114 kB)\r\n",
      "Requirement already satisfied: google-auth<3.0.0dev,>=1.19.0 in /media/panjacob/ssd2/Magisterka/venv/lib/python3.10/site-packages (from google-api-python-client>=1.6.7->tf-models-official>=2.5.1->object-detection==0.1) (2.9.1)\r\n",
      "Collecting docopt\r\n",
      "  Using cached docopt-0.6.2-py2.py3-none-any.whl\r\n",
      "Requirement already satisfied: tqdm in /media/panjacob/ssd2/Magisterka/venv/lib/python3.10/site-packages (from kaggle>=1.3.9->tf-models-official>=2.5.1->object-detection==0.1) (4.64.0)\r\n",
      "Requirement already satisfied: urllib3 in /media/panjacob/ssd2/Magisterka/venv/lib/python3.10/site-packages (from kaggle>=1.3.9->tf-models-official>=2.5.1->object-detection==0.1) (1.26.11)\r\n",
      "Requirement already satisfied: certifi in /media/panjacob/ssd2/Magisterka/venv/lib/python3.10/site-packages (from kaggle>=1.3.9->tf-models-official>=2.5.1->object-detection==0.1) (2022.6.15)\r\n",
      "Collecting python-slugify\r\n",
      "  Using cached python_slugify-6.1.2-py2.py3-none-any.whl (9.4 kB)\r\n",
      "Requirement already satisfied: charset-normalizer<3,>=2 in /media/panjacob/ssd2/Magisterka/venv/lib/python3.10/site-packages (from requests<3.0.0,>=2.24.0->apache-beam->object-detection==0.1) (2.1.0)\r\n",
      "Requirement already satisfied: idna<4,>=2.5 in /media/panjacob/ssd2/Magisterka/venv/lib/python3.10/site-packages (from requests<3.0.0,>=2.24.0->apache-beam->object-detection==0.1) (3.3)\r\n",
      "Requirement already satisfied: tensorflow-estimator<2.10.0,>=2.9.0rc0 in /media/panjacob/ssd2/Magisterka/venv/lib/python3.10/site-packages (from tensorflow~=2.9.0->tf-models-official>=2.5.1->object-detection==0.1) (2.9.0)\r\n",
      "Requirement already satisfied: termcolor>=1.1.0 in /media/panjacob/ssd2/Magisterka/venv/lib/python3.10/site-packages (from tensorflow~=2.9.0->tf-models-official>=2.5.1->object-detection==0.1) (1.1.0)\r\n",
      "Requirement already satisfied: flatbuffers<2,>=1.12 in /media/panjacob/ssd2/Magisterka/venv/lib/python3.10/site-packages (from tensorflow~=2.9.0->tf-models-official>=2.5.1->object-detection==0.1) (1.12)\r\n",
      "Requirement already satisfied: wrapt>=1.11.0 in /media/panjacob/ssd2/Magisterka/venv/lib/python3.10/site-packages (from tensorflow~=2.9.0->tf-models-official>=2.5.1->object-detection==0.1) (1.14.1)\r\n",
      "Requirement already satisfied: libclang>=13.0.0 in /media/panjacob/ssd2/Magisterka/venv/lib/python3.10/site-packages (from tensorflow~=2.9.0->tf-models-official>=2.5.1->object-detection==0.1) (14.0.1)\r\n",
      "Requirement already satisfied: opt-einsum>=2.3.2 in /media/panjacob/ssd2/Magisterka/venv/lib/python3.10/site-packages (from tensorflow~=2.9.0->tf-models-official>=2.5.1->object-detection==0.1) (3.3.0)\r\n",
      "Requirement already satisfied: tensorboard<2.10,>=2.9 in /media/panjacob/ssd2/Magisterka/venv/lib/python3.10/site-packages (from tensorflow~=2.9.0->tf-models-official>=2.5.1->object-detection==0.1) (2.9.1)\r\n",
      "Requirement already satisfied: setuptools in /media/panjacob/ssd2/Magisterka/venv/lib/python3.10/site-packages (from tensorflow~=2.9.0->tf-models-official>=2.5.1->object-detection==0.1) (60.2.0)\r\n",
      "Requirement already satisfied: astunparse>=1.6.0 in /media/panjacob/ssd2/Magisterka/venv/lib/python3.10/site-packages (from tensorflow~=2.9.0->tf-models-official>=2.5.1->object-detection==0.1) (1.6.3)\r\n",
      "Requirement already satisfied: keras-preprocessing>=1.1.1 in /media/panjacob/ssd2/Magisterka/venv/lib/python3.10/site-packages (from tensorflow~=2.9.0->tf-models-official>=2.5.1->object-detection==0.1) (1.1.2)\r\n",
      "Requirement already satisfied: gast<=0.4.0,>=0.2.1 in /media/panjacob/ssd2/Magisterka/venv/lib/python3.10/site-packages (from tensorflow~=2.9.0->tf-models-official>=2.5.1->object-detection==0.1) (0.4.0)\r\n",
      "Requirement already satisfied: h5py>=2.9.0 in /media/panjacob/ssd2/Magisterka/venv/lib/python3.10/site-packages (from tensorflow~=2.9.0->tf-models-official>=2.5.1->object-detection==0.1) (3.7.0)\r\n",
      "Requirement already satisfied: google-pasta>=0.1.1 in /media/panjacob/ssd2/Magisterka/venv/lib/python3.10/site-packages (from tensorflow~=2.9.0->tf-models-official>=2.5.1->object-detection==0.1) (0.2.0)\r\n",
      "Collecting dm-tree~=0.1.1\r\n",
      "  Using cached dm_tree-0.1.7-cp310-cp310-manylinux_2_12_x86_64.manylinux2010_x86_64.whl (142 kB)\r\n",
      "Requirement already satisfied: rsa>=3.1.4 in /media/panjacob/ssd2/Magisterka/venv/lib/python3.10/site-packages (from oauth2client->tf-models-official>=2.5.1->object-detection==0.1) (4.9)\r\n",
      "Requirement already satisfied: pyasn1>=0.1.7 in /media/panjacob/ssd2/Magisterka/venv/lib/python3.10/site-packages (from oauth2client->tf-models-official>=2.5.1->object-detection==0.1) (0.4.8)\r\n",
      "Requirement already satisfied: pyasn1-modules>=0.0.5 in /media/panjacob/ssd2/Magisterka/venv/lib/python3.10/site-packages (from oauth2client->tf-models-official>=2.5.1->object-detection==0.1) (0.2.8)\r\n",
      "Collecting portalocker\r\n",
      "  Using cached portalocker-2.5.1-py2.py3-none-any.whl (15 kB)\r\n",
      "Collecting tabulate>=0.8.9\r\n",
      "  Using cached tabulate-0.8.10-py3-none-any.whl (29 kB)\r\n",
      "Collecting colorama\r\n",
      "  Using cached colorama-0.4.5-py2.py3-none-any.whl (16 kB)\r\n",
      "Collecting regex\r\n",
      "  Using cached regex-2022.7.25-cp310-cp310-manylinux_2_17_x86_64.manylinux2014_x86_64.whl (765 kB)\r\n",
      "Requirement already satisfied: scikit-learn>=0.21.3 in /media/panjacob/ssd2/Magisterka/venv/lib/python3.10/site-packages (from seqeval->tf-models-official>=2.5.1->object-detection==0.1) (1.1.1)\r\n",
      "Collecting typeguard>=2.7\r\n",
      "  Using cached typeguard-2.13.3-py3-none-any.whl (17 kB)\r\n",
      "Collecting toml\r\n",
      "  Using cached toml-0.10.2-py2.py3-none-any.whl (16 kB)\r\n",
      "Collecting etils[epath]\r\n",
      "  Using cached etils-0.6.0-py3-none-any.whl (98 kB)\r\n",
      "Collecting tensorflow-metadata\r\n",
      "  Using cached tensorflow_metadata-1.9.0-py3-none-any.whl (51 kB)\r\n",
      "Collecting promise\r\n",
      "  Using cached promise-2.3-py3-none-any.whl\r\n",
      "Requirement already satisfied: wheel<1.0,>=0.23.0 in /media/panjacob/ssd2/Magisterka/venv/lib/python3.10/site-packages (from astunparse>=1.6.0->tensorflow~=2.9.0->tf-models-official>=2.5.1->object-detection==0.1) (0.37.1)\r\n",
      "Collecting googleapis-common-protos<2.0dev,>=1.56.2\r\n",
      "  Using cached googleapis_common_protos-1.56.4-py2.py3-none-any.whl (211 kB)\r\n",
      "Requirement already satisfied: cachetools<6.0,>=2.0.0 in /media/panjacob/ssd2/Magisterka/venv/lib/python3.10/site-packages (from google-auth<3.0.0dev,>=1.19.0->google-api-python-client>=1.6.7->tf-models-official>=2.5.1->object-detection==0.1) (5.2.0)\r\n",
      "Requirement already satisfied: joblib>=1.0.0 in /media/panjacob/ssd2/Magisterka/venv/lib/python3.10/site-packages (from scikit-learn>=0.21.3->seqeval->tf-models-official>=2.5.1->object-detection==0.1) (1.1.0)\r\n",
      "Requirement already satisfied: threadpoolctl>=2.0.0 in /media/panjacob/ssd2/Magisterka/venv/lib/python3.10/site-packages (from scikit-learn>=0.21.3->seqeval->tf-models-official>=2.5.1->object-detection==0.1) (3.1.0)\r\n",
      "Requirement already satisfied: markdown>=2.6.8 in /media/panjacob/ssd2/Magisterka/venv/lib/python3.10/site-packages (from tensorboard<2.10,>=2.9->tensorflow~=2.9.0->tf-models-official>=2.5.1->object-detection==0.1) (3.4.1)\r\n",
      "Requirement already satisfied: werkzeug>=1.0.1 in /media/panjacob/ssd2/Magisterka/venv/lib/python3.10/site-packages (from tensorboard<2.10,>=2.9->tensorflow~=2.9.0->tf-models-official>=2.5.1->object-detection==0.1) (2.2.1)\r\n",
      "Requirement already satisfied: tensorboard-plugin-wit>=1.6.0 in /media/panjacob/ssd2/Magisterka/venv/lib/python3.10/site-packages (from tensorboard<2.10,>=2.9->tensorflow~=2.9.0->tf-models-official>=2.5.1->object-detection==0.1) (1.8.1)\r\n",
      "Requirement already satisfied: tensorboard-data-server<0.7.0,>=0.6.0 in /media/panjacob/ssd2/Magisterka/venv/lib/python3.10/site-packages (from tensorboard<2.10,>=2.9->tensorflow~=2.9.0->tf-models-official>=2.5.1->object-detection==0.1) (0.6.1)\r\n",
      "Requirement already satisfied: google-auth-oauthlib<0.5,>=0.4.1 in /media/panjacob/ssd2/Magisterka/venv/lib/python3.10/site-packages (from tensorboard<2.10,>=2.9->tensorflow~=2.9.0->tf-models-official>=2.5.1->object-detection==0.1) (0.4.6)\r\n",
      "Requirement already satisfied: zipp in /media/panjacob/ssd2/Magisterka/venv/lib/python3.10/site-packages (from etils[epath]->tensorflow-datasets->tf-models-official>=2.5.1->object-detection==0.1) (3.8.1)\r\n",
      "Collecting importlib_resources\r\n",
      "  Using cached importlib_resources-5.9.0-py3-none-any.whl (33 kB)\r\n",
      "Collecting text-unidecode>=1.3\r\n",
      "  Using cached text_unidecode-1.3-py2.py3-none-any.whl (78 kB)\r\n",
      "Requirement already satisfied: requests-oauthlib>=0.7.0 in /media/panjacob/ssd2/Magisterka/venv/lib/python3.10/site-packages (from google-auth-oauthlib<0.5,>=0.4.1->tensorboard<2.10,>=2.9->tensorflow~=2.9.0->tf-models-official>=2.5.1->object-detection==0.1) (1.3.1)\r\n",
      "Requirement already satisfied: MarkupSafe>=2.1.1 in /media/panjacob/ssd2/Magisterka/venv/lib/python3.10/site-packages (from werkzeug>=1.0.1->tensorboard<2.10,>=2.9->tensorflow~=2.9.0->tf-models-official>=2.5.1->object-detection==0.1) (2.1.1)\r\n",
      "Requirement already satisfied: oauthlib>=3.0.0 in /media/panjacob/ssd2/Magisterka/venv/lib/python3.10/site-packages (from requests-oauthlib>=0.7.0->google-auth-oauthlib<0.5,>=0.4.1->tensorboard<2.10,>=2.9->tensorflow~=2.9.0->tf-models-official>=2.5.1->object-detection==0.1) (3.2.0)\r\n",
      "Building wheels for collected packages: object-detection\r\n",
      "  Building wheel for object-detection (setup.py) ... \u001B[?25ldone\r\n",
      "\u001B[?25h  Created wheel for object-detection: filename=object_detection-0.1-py3-none-any.whl size=1695423 sha256=49923ec8051a00b81382c580fbf4e26e395da50d1d3045ad893cec237fd3b8a9\r\n",
      "  Stored in directory: /tmp/pip-ephem-wheel-cache-d_2tjudo/wheels/41/b7/9e/d1de51edc01080bba14089b234b06f27d681376017067a120e\r\n",
      "Successfully built object-detection\r\n",
      "Installing collected packages: pyparsing, numpy, etils, text-unidecode, importlib-resources, httplib2, googleapis-common-protos, uritemplate, typeguard, toml, tensorflow-metadata, tensorflow-hub, tabulate, regex, python-slugify, promise, portalocker, google-auth-httplib2, google-api-core, docopt, dm-tree, dill, colorama, tf-slim, tensorflow-text, tensorflow-model-optimization, tensorflow-datasets, tensorflow-addons, seqeval, sentencepiece, sacrebleu, pyyaml, pymongo, pydot, pycocotools, pyarrow, py-cpuinfo, proto-plus, pandas, orjson, opencv-python-headless, oauth2client, kaggle, hdfs, google-api-python-client, gin-config, fastavro, crcmod, cloudpickle, tf-models-official, tensorflow-io, lvis, avro-python3, apache-beam, object-detection\r\n",
      "  Attempting uninstall: pyparsing\r\n",
      "    Found existing installation: pyparsing 3.0.9\r\n",
      "    Uninstalling pyparsing-3.0.9:\r\n",
      "      Successfully uninstalled pyparsing-3.0.9\r\n",
      "  Attempting uninstall: numpy\r\n",
      "    Found existing installation: numpy 1.23.1\r\n",
      "    Uninstalling numpy-1.23.1:\r\n",
      "      Successfully uninstalled numpy-1.23.1\r\n",
      "  Attempting uninstall: pyyaml\r\n",
      "    Found existing installation: PyYAML 6.0\r\n",
      "    Uninstalling PyYAML-6.0:\r\n",
      "      Successfully uninstalled PyYAML-6.0\r\n",
      "Successfully installed apache-beam-2.40.0 avro-python3-1.10.2 cloudpickle-2.1.0 colorama-0.4.5 crcmod-1.7 dill-0.3.1.1 dm-tree-0.1.7 docopt-0.6.2 etils-0.6.0 fastavro-1.5.3 gin-config-0.5.0 google-api-core-2.8.2 google-api-python-client-2.55.0 google-auth-httplib2-0.1.0 googleapis-common-protos-1.56.4 hdfs-2.7.0 httplib2-0.20.4 importlib-resources-5.9.0 kaggle-1.5.12 lvis-0.5.3 numpy-1.22.4 oauth2client-4.1.3 object-detection-0.1 opencv-python-headless-4.6.0.66 orjson-3.7.8 pandas-1.4.3 portalocker-2.5.1 promise-2.3 proto-plus-1.20.6 py-cpuinfo-8.0.0 pyarrow-7.0.0 pycocotools-2.0.4 pydot-1.4.2 pymongo-3.12.3 pyparsing-2.4.7 python-slugify-6.1.2 pyyaml-5.4.1 regex-2022.7.25 sacrebleu-2.2.0 sentencepiece-0.1.96 seqeval-1.2.2 tabulate-0.8.10 tensorflow-addons-0.17.1 tensorflow-datasets-4.6.0 tensorflow-hub-0.12.0 tensorflow-io-0.26.0 tensorflow-metadata-1.9.0 tensorflow-model-optimization-0.7.3 tensorflow-text-2.9.0 text-unidecode-1.3 tf-models-official-2.9.2 tf-slim-1.1.0 toml-0.10.2 typeguard-2.13.3 uritemplate-4.1.1\r\n",
      "\u001B[33mWARNING: You are using pip version 21.3.1; however, version 22.2.1 is available.\r\n",
      "You should consider upgrading via the '/media/panjacob/ssd2/Magisterka/venv/bin/python -m pip install --upgrade pip' command.\u001B[0m\r\n"
     ]
    }
   ],
   "source": [
    "if os.name == 'posix':\n",
    "    !apt-get install protobuf-compiler\n",
    "    !cd Tensorflow / models / research & & protoc object_detection / protos / *.proto --python_out=.& & cp object_detection / packages / tf2 / setup.py.& & python -m pip install.\n",
    "\n",
    "if os.name == 'nt':\n",
    "    url = \"https://github.com/protocolbuffers/protobuf/releases/download/v3.15.6/protoc-3.15.6-win64.zip\"\n",
    "    wget.download(url)\n",
    "    !move protoc-3.15.6-win64.zip {paths['PROTOC_PATH']}\n",
    "    !cd {paths['PROTOC_PATH']} & & tar -xf protoc-3.15.6-win64.zip\n",
    "    os.environ['PATH'] += os.pathsep + os.path.abspath(os.path.join(paths['PROTOC_PATH'], 'bin'))\n",
    "    !cd Tensorflow / models / research & & protoc object_detection / protos / *.proto --python_out=.& & copy object_detection\\\\packages\\\\tf2\\\\setup.py setup.py & & python setup.py build & & python setup.py install\n",
    "    !cd Tensorflow / models / research / slim & & pip install -e."
   ]
  },
  {
   "cell_type": "code",
   "execution_count": 6,
   "metadata": {
    "pycharm": {
     "name": "#%%\n"
    },
    "scrolled": true
   },
   "outputs": [
    {
     "name": "stdout",
     "output_type": "stream",
     "text": [
      "2022-07-29 20:00:08.486993: W tensorflow/stream_executor/platform/default/dso_loader.cc:64] Could not load dynamic library 'libcudart.so.11.0'; dlerror: libcudart.so.11.0: cannot open shared object file: No such file or directory; LD_LIBRARY_PATH: /media/panjacob/ssd2/Magisterka/venv/lib/python3.10/site-packages/cv2/../../lib64:\r\n",
      "2022-07-29 20:00:08.487013: I tensorflow/stream_executor/cuda/cudart_stub.cc:29] Ignore above cudart dlerror if you do not have a GPU set up on your machine.\r\n",
      "2022-07-29 20:00:10.349173: W tensorflow/stream_executor/platform/default/dso_loader.cc:64] Could not load dynamic library 'libcuda.so.1'; dlerror: libcuda.so.1: cannot open shared object file: No such file or directory; LD_LIBRARY_PATH: /media/panjacob/ssd2/Magisterka/venv/lib/python3.10/site-packages/cv2/../../lib64:\r\n",
      "2022-07-29 20:00:10.349192: W tensorflow/stream_executor/cuda/cuda_driver.cc:269] failed call to cuInit: UNKNOWN ERROR (303)\r\n",
      "2022-07-29 20:00:10.349204: I tensorflow/stream_executor/cuda/cuda_diagnostics.cc:156] kernel driver does not appear to be running on this host (panjacob): /proc/driver/nvidia/version does not exist\r\n",
      "Running tests under Python 3.10.4: /media/panjacob/ssd2/Magisterka/venv/bin/python\r\n",
      "[ RUN      ] ModelBuilderTF2Test.test_create_center_net_deepmac\r\n",
      "2022-07-29 20:00:10.352347: I tensorflow/core/platform/cpu_feature_guard.cc:193] This TensorFlow binary is optimized with oneAPI Deep Neural Network Library (oneDNN) to use the following CPU instructions in performance-critical operations:  AVX2 FMA\r\n",
      "To enable them in other operations, rebuild TensorFlow with the appropriate compiler flags.\r\n",
      "/media/panjacob/ssd2/Magisterka/venv/lib/python3.10/site-packages/object_detection/builders/model_builder.py:1102: DeprecationWarning: The 'warn' function is deprecated, use 'warning' instead\r\n",
      "  logging.warn(('Building experimental DeepMAC meta-arch.'\r\n",
      "W0729 20:00:10.559455 140461678571520 model_builder.py:1102] Building experimental DeepMAC meta-arch. Some features may be omitted.\r\n",
      "INFO:tensorflow:time(__main__.ModelBuilderTF2Test.test_create_center_net_deepmac): 0.35s\r\n",
      "I0729 20:00:10.705184 140461678571520 test_util.py:2458] time(__main__.ModelBuilderTF2Test.test_create_center_net_deepmac): 0.35s\r\n",
      "[       OK ] ModelBuilderTF2Test.test_create_center_net_deepmac\r\n",
      "[ RUN      ] ModelBuilderTF2Test.test_create_center_net_model0 (customize_head_params=True)\r\n",
      "INFO:tensorflow:time(__main__.ModelBuilderTF2Test.test_create_center_net_model0 (customize_head_params=True)): 0.4s\r\n",
      "I0729 20:00:11.101078 140461678571520 test_util.py:2458] time(__main__.ModelBuilderTF2Test.test_create_center_net_model0 (customize_head_params=True)): 0.4s\r\n",
      "[       OK ] ModelBuilderTF2Test.test_create_center_net_model0 (customize_head_params=True)\r\n",
      "[ RUN      ] ModelBuilderTF2Test.test_create_center_net_model1 (customize_head_params=False)\r\n",
      "INFO:tensorflow:time(__main__.ModelBuilderTF2Test.test_create_center_net_model1 (customize_head_params=False)): 0.15s\r\n",
      "I0729 20:00:11.248783 140461678571520 test_util.py:2458] time(__main__.ModelBuilderTF2Test.test_create_center_net_model1 (customize_head_params=False)): 0.15s\r\n",
      "[       OK ] ModelBuilderTF2Test.test_create_center_net_model1 (customize_head_params=False)\r\n",
      "[ RUN      ] ModelBuilderTF2Test.test_create_center_net_model_from_keypoints\r\n",
      "INFO:tensorflow:time(__main__.ModelBuilderTF2Test.test_create_center_net_model_from_keypoints): 0.14s\r\n",
      "I0729 20:00:11.384070 140461678571520 test_util.py:2458] time(__main__.ModelBuilderTF2Test.test_create_center_net_model_from_keypoints): 0.14s\r\n",
      "[       OK ] ModelBuilderTF2Test.test_create_center_net_model_from_keypoints\r\n",
      "[ RUN      ] ModelBuilderTF2Test.test_create_center_net_model_mobilenet\r\n",
      "INFO:tensorflow:time(__main__.ModelBuilderTF2Test.test_create_center_net_model_mobilenet): 0.92s\r\n",
      "I0729 20:00:12.304072 140461678571520 test_util.py:2458] time(__main__.ModelBuilderTF2Test.test_create_center_net_model_mobilenet): 0.92s\r\n",
      "[       OK ] ModelBuilderTF2Test.test_create_center_net_model_mobilenet\r\n",
      "[ RUN      ] ModelBuilderTF2Test.test_create_experimental_model\r\n",
      "INFO:tensorflow:time(__main__.ModelBuilderTF2Test.test_create_experimental_model): 0.0s\r\n",
      "I0729 20:00:12.304650 140461678571520 test_util.py:2458] time(__main__.ModelBuilderTF2Test.test_create_experimental_model): 0.0s\r\n",
      "[       OK ] ModelBuilderTF2Test.test_create_experimental_model\r\n",
      "[ RUN      ] ModelBuilderTF2Test.test_create_faster_rcnn_from_config_with_crop_feature0 (True)\r\n",
      "INFO:tensorflow:time(__main__.ModelBuilderTF2Test.test_create_faster_rcnn_from_config_with_crop_feature0 (True)): 0.01s\r\n",
      "I0729 20:00:12.317406 140461678571520 test_util.py:2458] time(__main__.ModelBuilderTF2Test.test_create_faster_rcnn_from_config_with_crop_feature0 (True)): 0.01s\r\n",
      "[       OK ] ModelBuilderTF2Test.test_create_faster_rcnn_from_config_with_crop_feature0 (True)\r\n",
      "[ RUN      ] ModelBuilderTF2Test.test_create_faster_rcnn_from_config_with_crop_feature1 (False)\r\n",
      "INFO:tensorflow:time(__main__.ModelBuilderTF2Test.test_create_faster_rcnn_from_config_with_crop_feature1 (False)): 0.01s\r\n",
      "I0729 20:00:12.325533 140461678571520 test_util.py:2458] time(__main__.ModelBuilderTF2Test.test_create_faster_rcnn_from_config_with_crop_feature1 (False)): 0.01s\r\n",
      "[       OK ] ModelBuilderTF2Test.test_create_faster_rcnn_from_config_with_crop_feature1 (False)\r\n",
      "[ RUN      ] ModelBuilderTF2Test.test_create_faster_rcnn_model_from_config_with_example_miner\r\n",
      "INFO:tensorflow:time(__main__.ModelBuilderTF2Test.test_create_faster_rcnn_model_from_config_with_example_miner): 0.01s\r\n",
      "I0729 20:00:12.333884 140461678571520 test_util.py:2458] time(__main__.ModelBuilderTF2Test.test_create_faster_rcnn_model_from_config_with_example_miner): 0.01s\r\n",
      "[       OK ] ModelBuilderTF2Test.test_create_faster_rcnn_model_from_config_with_example_miner\r\n",
      "[ RUN      ] ModelBuilderTF2Test.test_create_faster_rcnn_models_from_config_faster_rcnn_with_matmul\r\n",
      "INFO:tensorflow:time(__main__.ModelBuilderTF2Test.test_create_faster_rcnn_models_from_config_faster_rcnn_with_matmul): 0.05s\r\n",
      "I0729 20:00:12.387437 140461678571520 test_util.py:2458] time(__main__.ModelBuilderTF2Test.test_create_faster_rcnn_models_from_config_faster_rcnn_with_matmul): 0.05s\r\n",
      "[       OK ] ModelBuilderTF2Test.test_create_faster_rcnn_models_from_config_faster_rcnn_with_matmul\r\n",
      "[ RUN      ] ModelBuilderTF2Test.test_create_faster_rcnn_models_from_config_faster_rcnn_without_matmul\r\n",
      "INFO:tensorflow:time(__main__.ModelBuilderTF2Test.test_create_faster_rcnn_models_from_config_faster_rcnn_without_matmul): 0.14s\r\n",
      "I0729 20:00:12.524636 140461678571520 test_util.py:2458] time(__main__.ModelBuilderTF2Test.test_create_faster_rcnn_models_from_config_faster_rcnn_without_matmul): 0.14s\r\n",
      "[       OK ] ModelBuilderTF2Test.test_create_faster_rcnn_models_from_config_faster_rcnn_without_matmul\r\n",
      "[ RUN      ] ModelBuilderTF2Test.test_create_faster_rcnn_models_from_config_mask_rcnn_with_matmul\r\n",
      "INFO:tensorflow:time(__main__.ModelBuilderTF2Test.test_create_faster_rcnn_models_from_config_mask_rcnn_with_matmul): 0.05s\r\n",
      "I0729 20:00:12.577781 140461678571520 test_util.py:2458] time(__main__.ModelBuilderTF2Test.test_create_faster_rcnn_models_from_config_mask_rcnn_with_matmul): 0.05s\r\n",
      "[       OK ] ModelBuilderTF2Test.test_create_faster_rcnn_models_from_config_mask_rcnn_with_matmul\r\n",
      "[ RUN      ] ModelBuilderTF2Test.test_create_faster_rcnn_models_from_config_mask_rcnn_without_matmul\r\n",
      "INFO:tensorflow:time(__main__.ModelBuilderTF2Test.test_create_faster_rcnn_models_from_config_mask_rcnn_without_matmul): 0.05s\r\n",
      "I0729 20:00:12.630211 140461678571520 test_util.py:2458] time(__main__.ModelBuilderTF2Test.test_create_faster_rcnn_models_from_config_mask_rcnn_without_matmul): 0.05s\r\n",
      "[       OK ] ModelBuilderTF2Test.test_create_faster_rcnn_models_from_config_mask_rcnn_without_matmul\r\n",
      "[ RUN      ] ModelBuilderTF2Test.test_create_rfcn_model_from_config\r\n",
      "INFO:tensorflow:time(__main__.ModelBuilderTF2Test.test_create_rfcn_model_from_config): 0.05s\r\n",
      "I0729 20:00:12.681292 140461678571520 test_util.py:2458] time(__main__.ModelBuilderTF2Test.test_create_rfcn_model_from_config): 0.05s\r\n",
      "[       OK ] ModelBuilderTF2Test.test_create_rfcn_model_from_config\r\n",
      "[ RUN      ] ModelBuilderTF2Test.test_create_ssd_fpn_model_from_config\r\n",
      "INFO:tensorflow:time(__main__.ModelBuilderTF2Test.test_create_ssd_fpn_model_from_config): 0.02s\r\n",
      "I0729 20:00:12.696494 140461678571520 test_util.py:2458] time(__main__.ModelBuilderTF2Test.test_create_ssd_fpn_model_from_config): 0.02s\r\n",
      "[       OK ] ModelBuilderTF2Test.test_create_ssd_fpn_model_from_config\r\n",
      "[ RUN      ] ModelBuilderTF2Test.test_create_ssd_models_from_config\r\n",
      "I0729 20:00:12.791993 140461678571520 ssd_efficientnet_bifpn_feature_extractor.py:145] EfficientDet EfficientNet backbone version: efficientnet-b0\r\n",
      "I0729 20:00:12.792059 140461678571520 ssd_efficientnet_bifpn_feature_extractor.py:147] EfficientDet BiFPN num filters: 64\r\n",
      "I0729 20:00:12.792090 140461678571520 ssd_efficientnet_bifpn_feature_extractor.py:148] EfficientDet BiFPN num iterations: 3\r\n",
      "I0729 20:00:12.793313 140461678571520 efficientnet_model.py:143] round_filter input=32 output=32\r\n",
      "I0729 20:00:12.801916 140461678571520 efficientnet_model.py:143] round_filter input=32 output=32\r\n",
      "I0729 20:00:12.801968 140461678571520 efficientnet_model.py:143] round_filter input=16 output=16\r\n",
      "I0729 20:00:12.831963 140461678571520 efficientnet_model.py:143] round_filter input=16 output=16\r\n",
      "I0729 20:00:12.832025 140461678571520 efficientnet_model.py:143] round_filter input=24 output=24\r\n",
      "I0729 20:00:12.909786 140461678571520 efficientnet_model.py:143] round_filter input=24 output=24\r\n",
      "I0729 20:00:12.909860 140461678571520 efficientnet_model.py:143] round_filter input=40 output=40\r\n",
      "I0729 20:00:12.988111 140461678571520 efficientnet_model.py:143] round_filter input=40 output=40\r\n",
      "I0729 20:00:12.988190 140461678571520 efficientnet_model.py:143] round_filter input=80 output=80\r\n",
      "I0729 20:00:13.107504 140461678571520 efficientnet_model.py:143] round_filter input=80 output=80\r\n",
      "I0729 20:00:13.107585 140461678571520 efficientnet_model.py:143] round_filter input=112 output=112\r\n",
      "I0729 20:00:13.228071 140461678571520 efficientnet_model.py:143] round_filter input=112 output=112\r\n",
      "I0729 20:00:13.228151 140461678571520 efficientnet_model.py:143] round_filter input=192 output=192\r\n",
      "I0729 20:00:13.395755 140461678571520 efficientnet_model.py:143] round_filter input=192 output=192\r\n",
      "I0729 20:00:13.395837 140461678571520 efficientnet_model.py:143] round_filter input=320 output=320\r\n",
      "I0729 20:00:13.440073 140461678571520 efficientnet_model.py:143] round_filter input=1280 output=1280\r\n",
      "I0729 20:00:13.462727 140461678571520 efficientnet_model.py:453] Building model efficientnet with params ModelConfig(width_coefficient=1.0, depth_coefficient=1.0, resolution=224, dropout_rate=0.2, blocks=(BlockConfig(input_filters=32, output_filters=16, kernel_size=3, num_repeat=1, expand_ratio=1, strides=(1, 1), se_ratio=0.25, id_skip=True, fused_conv=False, conv_type='depthwise'), BlockConfig(input_filters=16, output_filters=24, kernel_size=3, num_repeat=2, expand_ratio=6, strides=(2, 2), se_ratio=0.25, id_skip=True, fused_conv=False, conv_type='depthwise'), BlockConfig(input_filters=24, output_filters=40, kernel_size=5, num_repeat=2, expand_ratio=6, strides=(2, 2), se_ratio=0.25, id_skip=True, fused_conv=False, conv_type='depthwise'), BlockConfig(input_filters=40, output_filters=80, kernel_size=3, num_repeat=3, expand_ratio=6, strides=(2, 2), se_ratio=0.25, id_skip=True, fused_conv=False, conv_type='depthwise'), BlockConfig(input_filters=80, output_filters=112, kernel_size=5, num_repeat=3, expand_ratio=6, strides=(1, 1), se_ratio=0.25, id_skip=True, fused_conv=False, conv_type='depthwise'), BlockConfig(input_filters=112, output_filters=192, kernel_size=5, num_repeat=4, expand_ratio=6, strides=(2, 2), se_ratio=0.25, id_skip=True, fused_conv=False, conv_type='depthwise'), BlockConfig(input_filters=192, output_filters=320, kernel_size=3, num_repeat=1, expand_ratio=6, strides=(1, 1), se_ratio=0.25, id_skip=True, fused_conv=False, conv_type='depthwise')), stem_base_filters=32, top_base_filters=1280, activation='simple_swish', batch_norm='default', bn_momentum=0.99, bn_epsilon=0.001, weight_decay=5e-06, drop_connect_rate=0.2, depth_divisor=8, min_depth=None, use_se=True, input_channels=3, num_classes=1000, model_name='efficientnet', rescale_input=False, data_format='channels_last', dtype='float32')\r\n",
      "I0729 20:00:13.499768 140461678571520 ssd_efficientnet_bifpn_feature_extractor.py:145] EfficientDet EfficientNet backbone version: efficientnet-b1\r\n",
      "I0729 20:00:13.499860 140461678571520 ssd_efficientnet_bifpn_feature_extractor.py:147] EfficientDet BiFPN num filters: 88\r\n",
      "I0729 20:00:13.499891 140461678571520 ssd_efficientnet_bifpn_feature_extractor.py:148] EfficientDet BiFPN num iterations: 4\r\n",
      "I0729 20:00:13.500890 140461678571520 efficientnet_model.py:143] round_filter input=32 output=32\r\n",
      "I0729 20:00:13.510556 140461678571520 efficientnet_model.py:143] round_filter input=32 output=32\r\n",
      "I0729 20:00:13.510645 140461678571520 efficientnet_model.py:143] round_filter input=16 output=16\r\n",
      "I0729 20:00:13.583092 140461678571520 efficientnet_model.py:143] round_filter input=16 output=16\r\n",
      "I0729 20:00:13.583179 140461678571520 efficientnet_model.py:143] round_filter input=24 output=24\r\n",
      "I0729 20:00:13.706614 140461678571520 efficientnet_model.py:143] round_filter input=24 output=24\r\n",
      "I0729 20:00:13.706695 140461678571520 efficientnet_model.py:143] round_filter input=40 output=40\r\n",
      "I0729 20:00:13.826467 140461678571520 efficientnet_model.py:143] round_filter input=40 output=40\r\n",
      "I0729 20:00:13.826549 140461678571520 efficientnet_model.py:143] round_filter input=80 output=80\r\n",
      "I0729 20:00:14.005025 140461678571520 efficientnet_model.py:143] round_filter input=80 output=80\r\n",
      "I0729 20:00:14.005118 140461678571520 efficientnet_model.py:143] round_filter input=112 output=112\r\n",
      "I0729 20:00:14.169252 140461678571520 efficientnet_model.py:143] round_filter input=112 output=112\r\n",
      "I0729 20:00:14.169336 140461678571520 efficientnet_model.py:143] round_filter input=192 output=192\r\n",
      "I0729 20:00:14.378334 140461678571520 efficientnet_model.py:143] round_filter input=192 output=192\r\n",
      "I0729 20:00:14.378417 140461678571520 efficientnet_model.py:143] round_filter input=320 output=320\r\n",
      "I0729 20:00:14.477430 140461678571520 efficientnet_model.py:143] round_filter input=1280 output=1280\r\n",
      "I0729 20:00:14.496936 140461678571520 efficientnet_model.py:453] Building model efficientnet with params ModelConfig(width_coefficient=1.0, depth_coefficient=1.1, resolution=240, dropout_rate=0.2, blocks=(BlockConfig(input_filters=32, output_filters=16, kernel_size=3, num_repeat=1, expand_ratio=1, strides=(1, 1), se_ratio=0.25, id_skip=True, fused_conv=False, conv_type='depthwise'), BlockConfig(input_filters=16, output_filters=24, kernel_size=3, num_repeat=2, expand_ratio=6, strides=(2, 2), se_ratio=0.25, id_skip=True, fused_conv=False, conv_type='depthwise'), BlockConfig(input_filters=24, output_filters=40, kernel_size=5, num_repeat=2, expand_ratio=6, strides=(2, 2), se_ratio=0.25, id_skip=True, fused_conv=False, conv_type='depthwise'), BlockConfig(input_filters=40, output_filters=80, kernel_size=3, num_repeat=3, expand_ratio=6, strides=(2, 2), se_ratio=0.25, id_skip=True, fused_conv=False, conv_type='depthwise'), BlockConfig(input_filters=80, output_filters=112, kernel_size=5, num_repeat=3, expand_ratio=6, strides=(1, 1), se_ratio=0.25, id_skip=True, fused_conv=False, conv_type='depthwise'), BlockConfig(input_filters=112, output_filters=192, kernel_size=5, num_repeat=4, expand_ratio=6, strides=(2, 2), se_ratio=0.25, id_skip=True, fused_conv=False, conv_type='depthwise'), BlockConfig(input_filters=192, output_filters=320, kernel_size=3, num_repeat=1, expand_ratio=6, strides=(1, 1), se_ratio=0.25, id_skip=True, fused_conv=False, conv_type='depthwise')), stem_base_filters=32, top_base_filters=1280, activation='simple_swish', batch_norm='default', bn_momentum=0.99, bn_epsilon=0.001, weight_decay=5e-06, drop_connect_rate=0.2, depth_divisor=8, min_depth=None, use_se=True, input_channels=3, num_classes=1000, model_name='efficientnet', rescale_input=False, data_format='channels_last', dtype='float32')\r\n",
      "I0729 20:00:14.532659 140461678571520 ssd_efficientnet_bifpn_feature_extractor.py:145] EfficientDet EfficientNet backbone version: efficientnet-b2\r\n",
      "I0729 20:00:14.532743 140461678571520 ssd_efficientnet_bifpn_feature_extractor.py:147] EfficientDet BiFPN num filters: 112\r\n",
      "I0729 20:00:14.532774 140461678571520 ssd_efficientnet_bifpn_feature_extractor.py:148] EfficientDet BiFPN num iterations: 5\r\n",
      "I0729 20:00:14.533673 140461678571520 efficientnet_model.py:143] round_filter input=32 output=32\r\n",
      "I0729 20:00:14.541972 140461678571520 efficientnet_model.py:143] round_filter input=32 output=32\r\n",
      "I0729 20:00:14.542042 140461678571520 efficientnet_model.py:143] round_filter input=16 output=16\r\n",
      "I0729 20:00:14.700576 140461678571520 efficientnet_model.py:143] round_filter input=16 output=16\r\n",
      "I0729 20:00:14.700655 140461678571520 efficientnet_model.py:143] round_filter input=24 output=24\r\n",
      "I0729 20:00:14.819827 140461678571520 efficientnet_model.py:143] round_filter input=24 output=24\r\n",
      "I0729 20:00:14.819907 140461678571520 efficientnet_model.py:143] round_filter input=40 output=48\r\n",
      "I0729 20:00:14.939748 140461678571520 efficientnet_model.py:143] round_filter input=40 output=48\r\n",
      "I0729 20:00:14.939833 140461678571520 efficientnet_model.py:143] round_filter input=80 output=88\r\n",
      "I0729 20:00:15.101284 140461678571520 efficientnet_model.py:143] round_filter input=80 output=88\r\n",
      "I0729 20:00:15.101369 140461678571520 efficientnet_model.py:143] round_filter input=112 output=120\r\n",
      "I0729 20:00:15.273775 140461678571520 efficientnet_model.py:143] round_filter input=112 output=120\r\n",
      "I0729 20:00:15.273856 140461678571520 efficientnet_model.py:143] round_filter input=192 output=208\r\n",
      "I0729 20:00:15.497619 140461678571520 efficientnet_model.py:143] round_filter input=192 output=208\r\n",
      "I0729 20:00:15.497702 140461678571520 efficientnet_model.py:143] round_filter input=320 output=352\r\n",
      "I0729 20:00:15.590765 140461678571520 efficientnet_model.py:143] round_filter input=1280 output=1408\r\n",
      "I0729 20:00:15.613375 140461678571520 efficientnet_model.py:453] Building model efficientnet with params ModelConfig(width_coefficient=1.1, depth_coefficient=1.2, resolution=260, dropout_rate=0.3, blocks=(BlockConfig(input_filters=32, output_filters=16, kernel_size=3, num_repeat=1, expand_ratio=1, strides=(1, 1), se_ratio=0.25, id_skip=True, fused_conv=False, conv_type='depthwise'), BlockConfig(input_filters=16, output_filters=24, kernel_size=3, num_repeat=2, expand_ratio=6, strides=(2, 2), se_ratio=0.25, id_skip=True, fused_conv=False, conv_type='depthwise'), BlockConfig(input_filters=24, output_filters=40, kernel_size=5, num_repeat=2, expand_ratio=6, strides=(2, 2), se_ratio=0.25, id_skip=True, fused_conv=False, conv_type='depthwise'), BlockConfig(input_filters=40, output_filters=80, kernel_size=3, num_repeat=3, expand_ratio=6, strides=(2, 2), se_ratio=0.25, id_skip=True, fused_conv=False, conv_type='depthwise'), BlockConfig(input_filters=80, output_filters=112, kernel_size=5, num_repeat=3, expand_ratio=6, strides=(1, 1), se_ratio=0.25, id_skip=True, fused_conv=False, conv_type='depthwise'), BlockConfig(input_filters=112, output_filters=192, kernel_size=5, num_repeat=4, expand_ratio=6, strides=(2, 2), se_ratio=0.25, id_skip=True, fused_conv=False, conv_type='depthwise'), BlockConfig(input_filters=192, output_filters=320, kernel_size=3, num_repeat=1, expand_ratio=6, strides=(1, 1), se_ratio=0.25, id_skip=True, fused_conv=False, conv_type='depthwise')), stem_base_filters=32, top_base_filters=1280, activation='simple_swish', batch_norm='default', bn_momentum=0.99, bn_epsilon=0.001, weight_decay=5e-06, drop_connect_rate=0.2, depth_divisor=8, min_depth=None, use_se=True, input_channels=3, num_classes=1000, model_name='efficientnet', rescale_input=False, data_format='channels_last', dtype='float32')\r\n",
      "I0729 20:00:15.649040 140461678571520 ssd_efficientnet_bifpn_feature_extractor.py:145] EfficientDet EfficientNet backbone version: efficientnet-b3\r\n",
      "I0729 20:00:15.649129 140461678571520 ssd_efficientnet_bifpn_feature_extractor.py:147] EfficientDet BiFPN num filters: 160\r\n",
      "I0729 20:00:15.649162 140461678571520 ssd_efficientnet_bifpn_feature_extractor.py:148] EfficientDet BiFPN num iterations: 6\r\n",
      "I0729 20:00:15.650079 140461678571520 efficientnet_model.py:143] round_filter input=32 output=40\r\n",
      "I0729 20:00:15.659936 140461678571520 efficientnet_model.py:143] round_filter input=32 output=40\r\n",
      "I0729 20:00:15.660022 140461678571520 efficientnet_model.py:143] round_filter input=16 output=24\r\n",
      "I0729 20:00:15.722302 140461678571520 efficientnet_model.py:143] round_filter input=16 output=24\r\n",
      "I0729 20:00:15.722384 140461678571520 efficientnet_model.py:143] round_filter input=24 output=32\r\n",
      "I0729 20:00:15.839905 140461678571520 efficientnet_model.py:143] round_filter input=24 output=32\r\n",
      "I0729 20:00:15.839991 140461678571520 efficientnet_model.py:143] round_filter input=40 output=48\r\n",
      "I0729 20:00:15.960915 140461678571520 efficientnet_model.py:143] round_filter input=40 output=48\r\n",
      "I0729 20:00:15.960995 140461678571520 efficientnet_model.py:143] round_filter input=80 output=96\r\n",
      "I0729 20:00:16.161732 140461678571520 efficientnet_model.py:143] round_filter input=80 output=96\r\n",
      "I0729 20:00:16.161813 140461678571520 efficientnet_model.py:143] round_filter input=112 output=136\r\n",
      "I0729 20:00:16.366328 140461678571520 efficientnet_model.py:143] round_filter input=112 output=136\r\n",
      "I0729 20:00:16.366415 140461678571520 efficientnet_model.py:143] round_filter input=192 output=232\r\n",
      "I0729 20:00:16.630064 140461678571520 efficientnet_model.py:143] round_filter input=192 output=232\r\n",
      "I0729 20:00:16.630152 140461678571520 efficientnet_model.py:143] round_filter input=320 output=384\r\n",
      "I0729 20:00:16.725337 140461678571520 efficientnet_model.py:143] round_filter input=1280 output=1536\r\n",
      "I0729 20:00:16.746953 140461678571520 efficientnet_model.py:453] Building model efficientnet with params ModelConfig(width_coefficient=1.2, depth_coefficient=1.4, resolution=300, dropout_rate=0.3, blocks=(BlockConfig(input_filters=32, output_filters=16, kernel_size=3, num_repeat=1, expand_ratio=1, strides=(1, 1), se_ratio=0.25, id_skip=True, fused_conv=False, conv_type='depthwise'), BlockConfig(input_filters=16, output_filters=24, kernel_size=3, num_repeat=2, expand_ratio=6, strides=(2, 2), se_ratio=0.25, id_skip=True, fused_conv=False, conv_type='depthwise'), BlockConfig(input_filters=24, output_filters=40, kernel_size=5, num_repeat=2, expand_ratio=6, strides=(2, 2), se_ratio=0.25, id_skip=True, fused_conv=False, conv_type='depthwise'), BlockConfig(input_filters=40, output_filters=80, kernel_size=3, num_repeat=3, expand_ratio=6, strides=(2, 2), se_ratio=0.25, id_skip=True, fused_conv=False, conv_type='depthwise'), BlockConfig(input_filters=80, output_filters=112, kernel_size=5, num_repeat=3, expand_ratio=6, strides=(1, 1), se_ratio=0.25, id_skip=True, fused_conv=False, conv_type='depthwise'), BlockConfig(input_filters=112, output_filters=192, kernel_size=5, num_repeat=4, expand_ratio=6, strides=(2, 2), se_ratio=0.25, id_skip=True, fused_conv=False, conv_type='depthwise'), BlockConfig(input_filters=192, output_filters=320, kernel_size=3, num_repeat=1, expand_ratio=6, strides=(1, 1), se_ratio=0.25, id_skip=True, fused_conv=False, conv_type='depthwise')), stem_base_filters=32, top_base_filters=1280, activation='simple_swish', batch_norm='default', bn_momentum=0.99, bn_epsilon=0.001, weight_decay=5e-06, drop_connect_rate=0.2, depth_divisor=8, min_depth=None, use_se=True, input_channels=3, num_classes=1000, model_name='efficientnet', rescale_input=False, data_format='channels_last', dtype='float32')\r\n",
      "I0729 20:00:16.792032 140461678571520 ssd_efficientnet_bifpn_feature_extractor.py:145] EfficientDet EfficientNet backbone version: efficientnet-b4\r\n",
      "I0729 20:00:16.792114 140461678571520 ssd_efficientnet_bifpn_feature_extractor.py:147] EfficientDet BiFPN num filters: 224\r\n",
      "I0729 20:00:16.792145 140461678571520 ssd_efficientnet_bifpn_feature_extractor.py:148] EfficientDet BiFPN num iterations: 7\r\n",
      "I0729 20:00:16.793053 140461678571520 efficientnet_model.py:143] round_filter input=32 output=48\r\n",
      "I0729 20:00:16.801220 140461678571520 efficientnet_model.py:143] round_filter input=32 output=48\r\n",
      "I0729 20:00:16.801272 140461678571520 efficientnet_model.py:143] round_filter input=16 output=24\r\n",
      "I0729 20:00:16.872454 140461678571520 efficientnet_model.py:143] round_filter input=16 output=24\r\n",
      "I0729 20:00:16.872548 140461678571520 efficientnet_model.py:143] round_filter input=24 output=32\r\n",
      "I0729 20:00:17.040644 140461678571520 efficientnet_model.py:143] round_filter input=24 output=32\r\n",
      "I0729 20:00:17.040725 140461678571520 efficientnet_model.py:143] round_filter input=40 output=56\r\n",
      "I0729 20:00:17.206091 140461678571520 efficientnet_model.py:143] round_filter input=40 output=56\r\n",
      "I0729 20:00:17.206177 140461678571520 efficientnet_model.py:143] round_filter input=80 output=112\r\n",
      "I0729 20:00:17.571706 140461678571520 efficientnet_model.py:143] round_filter input=80 output=112\r\n",
      "I0729 20:00:17.571795 140461678571520 efficientnet_model.py:143] round_filter input=112 output=160\r\n",
      "I0729 20:00:17.830034 140461678571520 efficientnet_model.py:143] round_filter input=112 output=160\r\n",
      "I0729 20:00:17.830124 140461678571520 efficientnet_model.py:143] round_filter input=192 output=272\r\n",
      "I0729 20:00:18.198900 140461678571520 efficientnet_model.py:143] round_filter input=192 output=272\r\n",
      "I0729 20:00:18.198987 140461678571520 efficientnet_model.py:143] round_filter input=320 output=448\r\n",
      "I0729 20:00:18.301213 140461678571520 efficientnet_model.py:143] round_filter input=1280 output=1792\r\n",
      "I0729 20:00:18.326312 140461678571520 efficientnet_model.py:453] Building model efficientnet with params ModelConfig(width_coefficient=1.4, depth_coefficient=1.8, resolution=380, dropout_rate=0.4, blocks=(BlockConfig(input_filters=32, output_filters=16, kernel_size=3, num_repeat=1, expand_ratio=1, strides=(1, 1), se_ratio=0.25, id_skip=True, fused_conv=False, conv_type='depthwise'), BlockConfig(input_filters=16, output_filters=24, kernel_size=3, num_repeat=2, expand_ratio=6, strides=(2, 2), se_ratio=0.25, id_skip=True, fused_conv=False, conv_type='depthwise'), BlockConfig(input_filters=24, output_filters=40, kernel_size=5, num_repeat=2, expand_ratio=6, strides=(2, 2), se_ratio=0.25, id_skip=True, fused_conv=False, conv_type='depthwise'), BlockConfig(input_filters=40, output_filters=80, kernel_size=3, num_repeat=3, expand_ratio=6, strides=(2, 2), se_ratio=0.25, id_skip=True, fused_conv=False, conv_type='depthwise'), BlockConfig(input_filters=80, output_filters=112, kernel_size=5, num_repeat=3, expand_ratio=6, strides=(1, 1), se_ratio=0.25, id_skip=True, fused_conv=False, conv_type='depthwise'), BlockConfig(input_filters=112, output_filters=192, kernel_size=5, num_repeat=4, expand_ratio=6, strides=(2, 2), se_ratio=0.25, id_skip=True, fused_conv=False, conv_type='depthwise'), BlockConfig(input_filters=192, output_filters=320, kernel_size=3, num_repeat=1, expand_ratio=6, strides=(1, 1), se_ratio=0.25, id_skip=True, fused_conv=False, conv_type='depthwise')), stem_base_filters=32, top_base_filters=1280, activation='simple_swish', batch_norm='default', bn_momentum=0.99, bn_epsilon=0.001, weight_decay=5e-06, drop_connect_rate=0.2, depth_divisor=8, min_depth=None, use_se=True, input_channels=3, num_classes=1000, model_name='efficientnet', rescale_input=False, data_format='channels_last', dtype='float32')\r\n",
      "I0729 20:00:18.372422 140461678571520 ssd_efficientnet_bifpn_feature_extractor.py:145] EfficientDet EfficientNet backbone version: efficientnet-b5\r\n",
      "I0729 20:00:18.372521 140461678571520 ssd_efficientnet_bifpn_feature_extractor.py:147] EfficientDet BiFPN num filters: 288\r\n",
      "I0729 20:00:18.372562 140461678571520 ssd_efficientnet_bifpn_feature_extractor.py:148] EfficientDet BiFPN num iterations: 7\r\n",
      "I0729 20:00:18.373528 140461678571520 efficientnet_model.py:143] round_filter input=32 output=48\r\n",
      "I0729 20:00:18.381771 140461678571520 efficientnet_model.py:143] round_filter input=32 output=48\r\n",
      "I0729 20:00:18.381840 140461678571520 efficientnet_model.py:143] round_filter input=16 output=24\r\n",
      "I0729 20:00:18.481599 140461678571520 efficientnet_model.py:143] round_filter input=16 output=24\r\n",
      "I0729 20:00:18.481684 140461678571520 efficientnet_model.py:143] round_filter input=24 output=40\r\n",
      "I0729 20:00:18.681902 140461678571520 efficientnet_model.py:143] round_filter input=24 output=40\r\n",
      "I0729 20:00:18.681987 140461678571520 efficientnet_model.py:143] round_filter input=40 output=64\r\n",
      "I0729 20:00:18.882783 140461678571520 efficientnet_model.py:143] round_filter input=40 output=64\r\n",
      "I0729 20:00:18.882867 140461678571520 efficientnet_model.py:143] round_filter input=80 output=128\r\n",
      "I0729 20:00:19.170641 140461678571520 efficientnet_model.py:143] round_filter input=80 output=128\r\n",
      "I0729 20:00:19.170726 140461678571520 efficientnet_model.py:143] round_filter input=112 output=176\r\n",
      "I0729 20:00:19.466884 140461678571520 efficientnet_model.py:143] round_filter input=112 output=176\r\n",
      "I0729 20:00:19.466964 140461678571520 efficientnet_model.py:143] round_filter input=192 output=304\r\n",
      "I0729 20:00:19.889777 140461678571520 efficientnet_model.py:143] round_filter input=192 output=304\r\n",
      "I0729 20:00:19.889863 140461678571520 efficientnet_model.py:143] round_filter input=320 output=512\r\n",
      "I0729 20:00:20.056394 140461678571520 efficientnet_model.py:143] round_filter input=1280 output=2048\r\n",
      "I0729 20:00:20.081430 140461678571520 efficientnet_model.py:453] Building model efficientnet with params ModelConfig(width_coefficient=1.6, depth_coefficient=2.2, resolution=456, dropout_rate=0.4, blocks=(BlockConfig(input_filters=32, output_filters=16, kernel_size=3, num_repeat=1, expand_ratio=1, strides=(1, 1), se_ratio=0.25, id_skip=True, fused_conv=False, conv_type='depthwise'), BlockConfig(input_filters=16, output_filters=24, kernel_size=3, num_repeat=2, expand_ratio=6, strides=(2, 2), se_ratio=0.25, id_skip=True, fused_conv=False, conv_type='depthwise'), BlockConfig(input_filters=24, output_filters=40, kernel_size=5, num_repeat=2, expand_ratio=6, strides=(2, 2), se_ratio=0.25, id_skip=True, fused_conv=False, conv_type='depthwise'), BlockConfig(input_filters=40, output_filters=80, kernel_size=3, num_repeat=3, expand_ratio=6, strides=(2, 2), se_ratio=0.25, id_skip=True, fused_conv=False, conv_type='depthwise'), BlockConfig(input_filters=80, output_filters=112, kernel_size=5, num_repeat=3, expand_ratio=6, strides=(1, 1), se_ratio=0.25, id_skip=True, fused_conv=False, conv_type='depthwise'), BlockConfig(input_filters=112, output_filters=192, kernel_size=5, num_repeat=4, expand_ratio=6, strides=(2, 2), se_ratio=0.25, id_skip=True, fused_conv=False, conv_type='depthwise'), BlockConfig(input_filters=192, output_filters=320, kernel_size=3, num_repeat=1, expand_ratio=6, strides=(1, 1), se_ratio=0.25, id_skip=True, fused_conv=False, conv_type='depthwise')), stem_base_filters=32, top_base_filters=1280, activation='simple_swish', batch_norm='default', bn_momentum=0.99, bn_epsilon=0.001, weight_decay=5e-06, drop_connect_rate=0.2, depth_divisor=8, min_depth=None, use_se=True, input_channels=3, num_classes=1000, model_name='efficientnet', rescale_input=False, data_format='channels_last', dtype='float32')\r\n",
      "I0729 20:00:20.134727 140461678571520 ssd_efficientnet_bifpn_feature_extractor.py:145] EfficientDet EfficientNet backbone version: efficientnet-b6\r\n",
      "I0729 20:00:20.134809 140461678571520 ssd_efficientnet_bifpn_feature_extractor.py:147] EfficientDet BiFPN num filters: 384\r\n",
      "I0729 20:00:20.134840 140461678571520 ssd_efficientnet_bifpn_feature_extractor.py:148] EfficientDet BiFPN num iterations: 8\r\n",
      "I0729 20:00:20.135745 140461678571520 efficientnet_model.py:143] round_filter input=32 output=56\r\n",
      "I0729 20:00:20.143913 140461678571520 efficientnet_model.py:143] round_filter input=32 output=56\r\n",
      "I0729 20:00:20.143963 140461678571520 efficientnet_model.py:143] round_filter input=16 output=32\r\n",
      "I0729 20:00:20.238751 140461678571520 efficientnet_model.py:143] round_filter input=16 output=32\r\n",
      "I0729 20:00:20.238834 140461678571520 efficientnet_model.py:143] round_filter input=24 output=40\r\n",
      "I0729 20:00:20.478836 140461678571520 efficientnet_model.py:143] round_filter input=24 output=40\r\n",
      "I0729 20:00:20.478923 140461678571520 efficientnet_model.py:143] round_filter input=40 output=72\r\n",
      "I0729 20:00:20.857838 140461678571520 efficientnet_model.py:143] round_filter input=40 output=72\r\n",
      "I0729 20:00:20.857923 140461678571520 efficientnet_model.py:143] round_filter input=80 output=144\r\n",
      "I0729 20:00:21.216096 140461678571520 efficientnet_model.py:143] round_filter input=80 output=144\r\n",
      "I0729 20:00:21.216183 140461678571520 efficientnet_model.py:143] round_filter input=112 output=200\r\n",
      "I0729 20:00:21.639151 140461678571520 efficientnet_model.py:143] round_filter input=112 output=200\r\n",
      "I0729 20:00:21.639245 140461678571520 efficientnet_model.py:143] round_filter input=192 output=344\r\n",
      "I0729 20:00:22.178201 140461678571520 efficientnet_model.py:143] round_filter input=192 output=344\r\n",
      "I0729 20:00:22.178288 140461678571520 efficientnet_model.py:143] round_filter input=320 output=576\r\n",
      "I0729 20:00:22.361515 140461678571520 efficientnet_model.py:143] round_filter input=1280 output=2304\r\n",
      "I0729 20:00:22.388245 140461678571520 efficientnet_model.py:453] Building model efficientnet with params ModelConfig(width_coefficient=1.8, depth_coefficient=2.6, resolution=528, dropout_rate=0.5, blocks=(BlockConfig(input_filters=32, output_filters=16, kernel_size=3, num_repeat=1, expand_ratio=1, strides=(1, 1), se_ratio=0.25, id_skip=True, fused_conv=False, conv_type='depthwise'), BlockConfig(input_filters=16, output_filters=24, kernel_size=3, num_repeat=2, expand_ratio=6, strides=(2, 2), se_ratio=0.25, id_skip=True, fused_conv=False, conv_type='depthwise'), BlockConfig(input_filters=24, output_filters=40, kernel_size=5, num_repeat=2, expand_ratio=6, strides=(2, 2), se_ratio=0.25, id_skip=True, fused_conv=False, conv_type='depthwise'), BlockConfig(input_filters=40, output_filters=80, kernel_size=3, num_repeat=3, expand_ratio=6, strides=(2, 2), se_ratio=0.25, id_skip=True, fused_conv=False, conv_type='depthwise'), BlockConfig(input_filters=80, output_filters=112, kernel_size=5, num_repeat=3, expand_ratio=6, strides=(1, 1), se_ratio=0.25, id_skip=True, fused_conv=False, conv_type='depthwise'), BlockConfig(input_filters=112, output_filters=192, kernel_size=5, num_repeat=4, expand_ratio=6, strides=(2, 2), se_ratio=0.25, id_skip=True, fused_conv=False, conv_type='depthwise'), BlockConfig(input_filters=192, output_filters=320, kernel_size=3, num_repeat=1, expand_ratio=6, strides=(1, 1), se_ratio=0.25, id_skip=True, fused_conv=False, conv_type='depthwise')), stem_base_filters=32, top_base_filters=1280, activation='simple_swish', batch_norm='default', bn_momentum=0.99, bn_epsilon=0.001, weight_decay=5e-06, drop_connect_rate=0.2, depth_divisor=8, min_depth=None, use_se=True, input_channels=3, num_classes=1000, model_name='efficientnet', rescale_input=False, data_format='channels_last', dtype='float32')\r\n",
      "I0729 20:00:22.448411 140461678571520 ssd_efficientnet_bifpn_feature_extractor.py:145] EfficientDet EfficientNet backbone version: efficientnet-b7\r\n",
      "I0729 20:00:22.448500 140461678571520 ssd_efficientnet_bifpn_feature_extractor.py:147] EfficientDet BiFPN num filters: 384\r\n",
      "I0729 20:00:22.448540 140461678571520 ssd_efficientnet_bifpn_feature_extractor.py:148] EfficientDet BiFPN num iterations: 8\r\n",
      "I0729 20:00:22.449440 140461678571520 efficientnet_model.py:143] round_filter input=32 output=64\r\n",
      "I0729 20:00:22.457685 140461678571520 efficientnet_model.py:143] round_filter input=32 output=64\r\n",
      "I0729 20:00:22.457739 140461678571520 efficientnet_model.py:143] round_filter input=16 output=32\r\n",
      "I0729 20:00:22.584755 140461678571520 efficientnet_model.py:143] round_filter input=16 output=32\r\n",
      "I0729 20:00:22.584840 140461678571520 efficientnet_model.py:143] round_filter input=24 output=48\r\n",
      "I0729 20:00:22.868402 140461678571520 efficientnet_model.py:143] round_filter input=24 output=48\r\n",
      "I0729 20:00:22.868487 140461678571520 efficientnet_model.py:143] round_filter input=40 output=80\r\n",
      "I0729 20:00:23.155007 140461678571520 efficientnet_model.py:143] round_filter input=40 output=80\r\n",
      "I0729 20:00:23.155089 140461678571520 efficientnet_model.py:143] round_filter input=80 output=160\r\n",
      "I0729 20:00:23.566767 140461678571520 efficientnet_model.py:143] round_filter input=80 output=160\r\n",
      "I0729 20:00:23.566852 140461678571520 efficientnet_model.py:143] round_filter input=112 output=224\r\n",
      "I0729 20:00:24.002754 140461678571520 efficientnet_model.py:143] round_filter input=112 output=224\r\n",
      "I0729 20:00:24.002840 140461678571520 efficientnet_model.py:143] round_filter input=192 output=384\r\n",
      "I0729 20:00:24.830891 140461678571520 efficientnet_model.py:143] round_filter input=192 output=384\r\n",
      "I0729 20:00:24.831004 140461678571520 efficientnet_model.py:143] round_filter input=320 output=640\r\n",
      "I0729 20:00:25.089234 140461678571520 efficientnet_model.py:143] round_filter input=1280 output=2560\r\n",
      "I0729 20:00:25.116173 140461678571520 efficientnet_model.py:453] Building model efficientnet with params ModelConfig(width_coefficient=2.0, depth_coefficient=3.1, resolution=600, dropout_rate=0.5, blocks=(BlockConfig(input_filters=32, output_filters=16, kernel_size=3, num_repeat=1, expand_ratio=1, strides=(1, 1), se_ratio=0.25, id_skip=True, fused_conv=False, conv_type='depthwise'), BlockConfig(input_filters=16, output_filters=24, kernel_size=3, num_repeat=2, expand_ratio=6, strides=(2, 2), se_ratio=0.25, id_skip=True, fused_conv=False, conv_type='depthwise'), BlockConfig(input_filters=24, output_filters=40, kernel_size=5, num_repeat=2, expand_ratio=6, strides=(2, 2), se_ratio=0.25, id_skip=True, fused_conv=False, conv_type='depthwise'), BlockConfig(input_filters=40, output_filters=80, kernel_size=3, num_repeat=3, expand_ratio=6, strides=(2, 2), se_ratio=0.25, id_skip=True, fused_conv=False, conv_type='depthwise'), BlockConfig(input_filters=80, output_filters=112, kernel_size=5, num_repeat=3, expand_ratio=6, strides=(1, 1), se_ratio=0.25, id_skip=True, fused_conv=False, conv_type='depthwise'), BlockConfig(input_filters=112, output_filters=192, kernel_size=5, num_repeat=4, expand_ratio=6, strides=(2, 2), se_ratio=0.25, id_skip=True, fused_conv=False, conv_type='depthwise'), BlockConfig(input_filters=192, output_filters=320, kernel_size=3, num_repeat=1, expand_ratio=6, strides=(1, 1), se_ratio=0.25, id_skip=True, fused_conv=False, conv_type='depthwise')), stem_base_filters=32, top_base_filters=1280, activation='simple_swish', batch_norm='default', bn_momentum=0.99, bn_epsilon=0.001, weight_decay=5e-06, drop_connect_rate=0.2, depth_divisor=8, min_depth=None, use_se=True, input_channels=3, num_classes=1000, model_name='efficientnet', rescale_input=False, data_format='channels_last', dtype='float32')\r\n",
      "INFO:tensorflow:time(__main__.ModelBuilderTF2Test.test_create_ssd_models_from_config): 12.49s\r\n",
      "I0729 20:00:25.188652 140461678571520 test_util.py:2458] time(__main__.ModelBuilderTF2Test.test_create_ssd_models_from_config): 12.49s\r\n",
      "[       OK ] ModelBuilderTF2Test.test_create_ssd_models_from_config\r\n",
      "[ RUN      ] ModelBuilderTF2Test.test_invalid_faster_rcnn_batchnorm_update\r\n",
      "INFO:tensorflow:time(__main__.ModelBuilderTF2Test.test_invalid_faster_rcnn_batchnorm_update): 0.0s\r\n",
      "I0729 20:00:25.193608 140461678571520 test_util.py:2458] time(__main__.ModelBuilderTF2Test.test_invalid_faster_rcnn_batchnorm_update): 0.0s\r\n",
      "[       OK ] ModelBuilderTF2Test.test_invalid_faster_rcnn_batchnorm_update\r\n",
      "[ RUN      ] ModelBuilderTF2Test.test_invalid_first_stage_nms_iou_threshold\r\n",
      "INFO:tensorflow:time(__main__.ModelBuilderTF2Test.test_invalid_first_stage_nms_iou_threshold): 0.0s\r\n",
      "I0729 20:00:25.194620 140461678571520 test_util.py:2458] time(__main__.ModelBuilderTF2Test.test_invalid_first_stage_nms_iou_threshold): 0.0s\r\n",
      "[       OK ] ModelBuilderTF2Test.test_invalid_first_stage_nms_iou_threshold\r\n",
      "[ RUN      ] ModelBuilderTF2Test.test_invalid_model_config_proto\r\n",
      "INFO:tensorflow:time(__main__.ModelBuilderTF2Test.test_invalid_model_config_proto): 0.0s\r\n",
      "I0729 20:00:25.194859 140461678571520 test_util.py:2458] time(__main__.ModelBuilderTF2Test.test_invalid_model_config_proto): 0.0s\r\n",
      "[       OK ] ModelBuilderTF2Test.test_invalid_model_config_proto\r\n",
      "[ RUN      ] ModelBuilderTF2Test.test_invalid_second_stage_batch_size\r\n",
      "INFO:tensorflow:time(__main__.ModelBuilderTF2Test.test_invalid_second_stage_batch_size): 0.0s\r\n",
      "I0729 20:00:25.195712 140461678571520 test_util.py:2458] time(__main__.ModelBuilderTF2Test.test_invalid_second_stage_batch_size): 0.0s\r\n",
      "[       OK ] ModelBuilderTF2Test.test_invalid_second_stage_batch_size\r\n",
      "[ RUN      ] ModelBuilderTF2Test.test_session\r\n",
      "[  SKIPPED ] ModelBuilderTF2Test.test_session\r\n",
      "[ RUN      ] ModelBuilderTF2Test.test_unknown_faster_rcnn_feature_extractor\r\n",
      "INFO:tensorflow:time(__main__.ModelBuilderTF2Test.test_unknown_faster_rcnn_feature_extractor): 0.0s\r\n",
      "I0729 20:00:25.196499 140461678571520 test_util.py:2458] time(__main__.ModelBuilderTF2Test.test_unknown_faster_rcnn_feature_extractor): 0.0s\r\n",
      "[       OK ] ModelBuilderTF2Test.test_unknown_faster_rcnn_feature_extractor\r\n",
      "[ RUN      ] ModelBuilderTF2Test.test_unknown_meta_architecture\r\n",
      "INFO:tensorflow:time(__main__.ModelBuilderTF2Test.test_unknown_meta_architecture): 0.0s\r\n",
      "I0729 20:00:25.196710 140461678571520 test_util.py:2458] time(__main__.ModelBuilderTF2Test.test_unknown_meta_architecture): 0.0s\r\n",
      "[       OK ] ModelBuilderTF2Test.test_unknown_meta_architecture\r\n",
      "[ RUN      ] ModelBuilderTF2Test.test_unknown_ssd_feature_extractor\r\n",
      "INFO:tensorflow:time(__main__.ModelBuilderTF2Test.test_unknown_ssd_feature_extractor): 0.0s\r\n",
      "I0729 20:00:25.197290 140461678571520 test_util.py:2458] time(__main__.ModelBuilderTF2Test.test_unknown_ssd_feature_extractor): 0.0s\r\n",
      "[       OK ] ModelBuilderTF2Test.test_unknown_ssd_feature_extractor\r\n",
      "----------------------------------------------------------------------\r\n",
      "Ran 24 tests in 14.847s\r\n",
      "\r\n",
      "OK (skipped=1)\r\n"
     ]
    }
   ],
   "source": [
    "VERIFICATION_SCRIPT = os.path.join(paths['APIMODEL_PATH'], 'research', 'object_detection', 'builders',\n",
    "                                   'model_builder_tf2_test.py')\n",
    "# Verify Installation\n",
    "!python {VERIFICATION_SCRIPT}"
   ]
  },
  {
   "cell_type": "code",
   "execution_count": 3,
   "metadata": {
    "pycharm": {
     "name": "#%%\n"
    }
   },
   "outputs": [],
   "source": [
    "import object_detection"
   ]
  },
  {
   "cell_type": "markdown",
   "metadata": {
    "pycharm": {
     "name": "#%% md\n"
    }
   },
   "source": [
    "### Import pretrained model"
   ]
  },
  {
   "cell_type": "code",
   "execution_count": 4,
   "metadata": {
    "colab": {
     "base_uri": "https://localhost:8080/"
    },
    "id": "csofht2npfDE",
    "outputId": "ff5471b2-bed2-43f2-959c-327a706527b6",
    "pycharm": {
     "name": "#%%\n"
    }
   },
   "outputs": [
    {
     "name": "stdout",
     "output_type": "stream",
     "text": [
      "--2022-07-29 20:14:38--  http://download.tensorflow.org/models/object_detection/tf2/20200711/ssd_mobilenet_v2_fpnlite_320x320_coco17_tpu-8.tar.gz\r\n",
      "Resolving download.tensorflow.org (download.tensorflow.org)... 142.250.203.208, 2a00:1450:401b:803::2010\r\n",
      "Connecting to download.tensorflow.org (download.tensorflow.org)|142.250.203.208|:80... connected.\r\n",
      "HTTP request sent, awaiting response... 200 OK\r\n",
      "Length: 20515344 (20M) [application/x-tar]\r\n",
      "Saving to: ‘ssd_mobilenet_v2_fpnlite_320x320_coco17_tpu-8.tar.gz’\r\n",
      "\r\n",
      "ssd_mobilenet_v2_fp 100%[===================>]  19.56M  51.8MB/s    in 0.4s    \r\n",
      "\r\n",
      "2022-07-29 20:14:39 (51.8 MB/s) - ‘ssd_mobilenet_v2_fpnlite_320x320_coco17_tpu-8.tar.gz’ saved [20515344/20515344]\r\n",
      "\r\n",
      "/bin/bash: -c: line 1: syntax error near unexpected token `&'\r\n",
      "/bin/bash: -c: line 1: `cd Tensorflow/workspace/pre-trained-models & & tar -zxvf ssd_mobilenet_v2_fpnlite_320x320_coco17_tpu-8.tar.gz'\r\n"
     ]
    }
   ],
   "source": [
    "if os.name == 'posix':\n",
    "    !wget {PRETRAINED_MODEL_URL}\n",
    "    !mv {PRETRAINED_MODEL_NAME+'.tar.gz'} {paths['PRETRAINED_MODEL_PATH']}\n",
    "    !cd {paths['PRETRAINED_MODEL_PATH']} & & tar -zxvf {PRETRAINED_MODEL_NAME+'.tar.gz'}\n",
    "if os.name == 'nt':\n",
    "    wget.download(PRETRAINED_MODEL_URL)\n",
    "    !move {PRETRAINED_MODEL_NAME+'.tar.gz'} {paths['PRETRAINED_MODEL_PATH']}\n",
    "    !cd {paths['PRETRAINED_MODEL_PATH']} & & tar -zxvf {PRETRAINED_MODEL_NAME+'.tar.gz'}"
   ]
  },
  {
   "cell_type": "markdown",
   "metadata": {
    "id": "M5KJTnkfpfDC",
    "pycharm": {
     "name": "#%% md\n"
    }
   },
   "source": [
    "# 2. Create Label Map"
   ]
  },
  {
   "cell_type": "code",
   "execution_count": 2,
   "metadata": {
    "id": "p1BVDWo7pfDC",
    "pycharm": {
     "name": "#%%\n"
    }
   },
   "outputs": [],
   "source": [
    "with open(files['LABELMAP'], 'w') as f:\n",
    "    for label in labels:\n",
    "        f.write('item { \\n')\n",
    "        f.write('\\tname:\\'{}\\'\\n'.format(label['name']))\n",
    "        f.write('\\tid:{}\\n'.format(label['id']))\n",
    "        f.write('}\\n')"
   ]
  },
  {
   "cell_type": "markdown",
   "metadata": {
    "id": "C88zyVELpfDC",
    "pycharm": {
     "name": "#%% md\n"
    }
   },
   "source": [
    "# 3. Create TF records"
   ]
  },
  {
   "cell_type": "code",
   "execution_count": 3,
   "metadata": {
    "colab": {
     "base_uri": "https://localhost:8080/"
    },
    "id": "KWpb_BVUpfDD",
    "outputId": "56ce2a3f-3933-4ee6-8a9d-d5ec65f7d73c",
    "pycharm": {
     "name": "#%%\n"
    }
   },
   "outputs": [],
   "source": [
    "if not os.path.exists(files['TF_RECORD_SCRIPT']):\n",
    "    !git clone https: // github.com / nicknochnack / GenerateTFRecord {paths['SCRIPTS_PATH']}"
   ]
  },
  {
   "cell_type": "code",
   "execution_count": 4,
   "metadata": {
    "colab": {
     "base_uri": "https://localhost:8080/"
    },
    "id": "UPFToGZqpfDD",
    "outputId": "0ebb456f-aadc-4a1f-96e6-fbfec1923e1c",
    "pycharm": {
     "name": "#%%\n"
    }
   },
   "outputs": [
    {
     "name": "stdout",
     "output_type": "stream",
     "text": [
      "Successfully created the TFRecord file: Tensorflow/workspace/annotations/train.record\r\n",
      "Successfully created the TFRecord file: Tensorflow/workspace/annotations/test.record\r\n"
     ]
    }
   ],
   "source": [
    "!python {files['TF_RECORD_SCRIPT']} -x {os.path.join(paths['IMAGE_PATH'], 'train')} -l {files['LABELMAP']} -o {os.path.join(paths['ANNOTATION_PATH'], 'train.record')}\n",
    "!python {files['TF_RECORD_SCRIPT']} -x {os.path.join(paths['IMAGE_PATH'], 'test')} -l {files['LABELMAP']} -o {os.path.join(paths['ANNOTATION_PATH'], 'test.record')}"
   ]
  },
  {
   "cell_type": "markdown",
   "metadata": {
    "id": "qT4QU7pLpfDE",
    "pycharm": {
     "name": "#%% md\n"
    }
   },
   "source": [
    "# 4. Copy Model Config to Training Folder"
   ]
  },
  {
   "cell_type": "code",
   "execution_count": 16,
   "metadata": {
    "id": "cOjuTFbwpfDF",
    "pycharm": {
     "name": "#%%\n"
    }
   },
   "outputs": [
    {
     "name": "stdout",
     "output_type": "stream",
     "text": [
      "cp: cannot stat 'Tensorflow/workspace/pre-trained-models/ssd_mobilenet_v2_fpnlite_320x320_coco17_tpu-8/pipeline.config': No such file or directory\r\n"
     ]
    }
   ],
   "source": [
    "if os.name == 'posix':\n",
    "    !cp {os.path.join(paths['PRETRAINED_MODEL_PATH'], PRETRAINED_MODEL_NAME, 'pipeline.config')} {os.path.join(paths['CHECKPOINT_PATH'])}\n",
    "if os.name == 'nt':\n",
    "    !copy {os.path.join(paths['PRETRAINED_MODEL_PATH'], PRETRAINED_MODEL_NAME, 'pipeline.config')} {os.path.join(paths['CHECKPOINT_PATH'])}"
   ]
  },
  {
   "cell_type": "markdown",
   "metadata": {
    "id": "Ga8gpNslpfDF",
    "pycharm": {
     "name": "#%% md\n"
    }
   },
   "source": [
    "# 5. Update Config For Transfer Learning"
   ]
  },
  {
   "cell_type": "code",
   "execution_count": 17,
   "metadata": {
    "id": "Z9hRrO_ppfDF",
    "pycharm": {
     "name": "#%%\n"
    }
   },
   "outputs": [
    {
     "name": "stderr",
     "output_type": "stream",
     "text": [
      "2022-07-29 20:25:38.474116: W tensorflow/stream_executor/platform/default/dso_loader.cc:64] Could not load dynamic library 'libcudart.so.11.0'; dlerror: libcudart.so.11.0: cannot open shared object file: No such file or directory; LD_LIBRARY_PATH: /media/panjacob/ssd2/Magisterka/venv/lib/python3.10/site-packages/cv2/../../lib64:\n",
      "2022-07-29 20:25:38.474135: I tensorflow/stream_executor/cuda/cudart_stub.cc:29] Ignore above cudart dlerror if you do not have a GPU set up on your machine.\n"
     ]
    }
   ],
   "source": [
    "import tensorflow as tf\n",
    "from object_detection.utils import config_util\n",
    "from object_detection.protos import pipeline_pb2\n",
    "from google.protobuf import text_format"
   ]
  },
  {
   "cell_type": "code",
   "execution_count": 18,
   "metadata": {
    "id": "c2A0mn4ipfDF",
    "pycharm": {
     "name": "#%%\n"
    }
   },
   "outputs": [
    {
     "ename": "NotFoundError",
     "evalue": "Tensorflow/workspace/models/my_ssd_mobnet_15000/pipeline.config; No such file or directory",
     "output_type": "error",
     "traceback": [
      "\u001B[0;31m---------------------------------------------------------------------------\u001B[0m",
      "\u001B[0;31mNotFoundError\u001B[0m                             Traceback (most recent call last)",
      "Input \u001B[0;32mIn [18]\u001B[0m, in \u001B[0;36m<cell line: 1>\u001B[0;34m()\u001B[0m\n\u001B[0;32m----> 1\u001B[0m config \u001B[38;5;241m=\u001B[39m \u001B[43mconfig_util\u001B[49m\u001B[38;5;241;43m.\u001B[39;49m\u001B[43mget_configs_from_pipeline_file\u001B[49m\u001B[43m(\u001B[49m\u001B[43mfiles\u001B[49m\u001B[43m[\u001B[49m\u001B[38;5;124;43m'\u001B[39;49m\u001B[38;5;124;43mPIPELINE_CONFIG\u001B[39;49m\u001B[38;5;124;43m'\u001B[39;49m\u001B[43m]\u001B[49m\u001B[43m)\u001B[49m\n",
      "File \u001B[0;32m/media/panjacob/ssd2/Magisterka/venv/lib/python3.10/site-packages/object_detection/utils/config_util.py:138\u001B[0m, in \u001B[0;36mget_configs_from_pipeline_file\u001B[0;34m(pipeline_config_path, config_override)\u001B[0m\n\u001B[1;32m    136\u001B[0m pipeline_config \u001B[38;5;241m=\u001B[39m pipeline_pb2\u001B[38;5;241m.\u001B[39mTrainEvalPipelineConfig()\n\u001B[1;32m    137\u001B[0m \u001B[38;5;28;01mwith\u001B[39;00m tf\u001B[38;5;241m.\u001B[39mgfile\u001B[38;5;241m.\u001B[39mGFile(pipeline_config_path, \u001B[38;5;124m\"\u001B[39m\u001B[38;5;124mr\u001B[39m\u001B[38;5;124m\"\u001B[39m) \u001B[38;5;28;01mas\u001B[39;00m f:\n\u001B[0;32m--> 138\u001B[0m   proto_str \u001B[38;5;241m=\u001B[39m \u001B[43mf\u001B[49m\u001B[38;5;241;43m.\u001B[39;49m\u001B[43mread\u001B[49m\u001B[43m(\u001B[49m\u001B[43m)\u001B[49m\n\u001B[1;32m    139\u001B[0m   text_format\u001B[38;5;241m.\u001B[39mMerge(proto_str, pipeline_config)\n\u001B[1;32m    140\u001B[0m \u001B[38;5;28;01mif\u001B[39;00m config_override:\n",
      "File \u001B[0;32m/media/panjacob/ssd2/Magisterka/venv/lib/python3.10/site-packages/tensorflow/python/lib/io/file_io.py:114\u001B[0m, in \u001B[0;36mFileIO.read\u001B[0;34m(self, n)\u001B[0m\n\u001B[1;32m    102\u001B[0m \u001B[38;5;28;01mdef\u001B[39;00m \u001B[38;5;21mread\u001B[39m(\u001B[38;5;28mself\u001B[39m, n\u001B[38;5;241m=\u001B[39m\u001B[38;5;241m-\u001B[39m\u001B[38;5;241m1\u001B[39m):\n\u001B[1;32m    103\u001B[0m   \u001B[38;5;124;03m\"\"\"Returns the contents of a file as a string.\u001B[39;00m\n\u001B[1;32m    104\u001B[0m \n\u001B[1;32m    105\u001B[0m \u001B[38;5;124;03m  Starts reading from current position in file.\u001B[39;00m\n\u001B[0;32m   (...)\u001B[0m\n\u001B[1;32m    112\u001B[0m \u001B[38;5;124;03m    string if in string (regular) mode.\u001B[39;00m\n\u001B[1;32m    113\u001B[0m \u001B[38;5;124;03m  \"\"\"\u001B[39;00m\n\u001B[0;32m--> 114\u001B[0m   \u001B[38;5;28;43mself\u001B[39;49m\u001B[38;5;241;43m.\u001B[39;49m\u001B[43m_preread_check\u001B[49m\u001B[43m(\u001B[49m\u001B[43m)\u001B[49m\n\u001B[1;32m    115\u001B[0m   \u001B[38;5;28;01mif\u001B[39;00m n \u001B[38;5;241m==\u001B[39m \u001B[38;5;241m-\u001B[39m\u001B[38;5;241m1\u001B[39m:\n\u001B[1;32m    116\u001B[0m     length \u001B[38;5;241m=\u001B[39m \u001B[38;5;28mself\u001B[39m\u001B[38;5;241m.\u001B[39msize() \u001B[38;5;241m-\u001B[39m \u001B[38;5;28mself\u001B[39m\u001B[38;5;241m.\u001B[39mtell()\n",
      "File \u001B[0;32m/media/panjacob/ssd2/Magisterka/venv/lib/python3.10/site-packages/tensorflow/python/lib/io/file_io.py:76\u001B[0m, in \u001B[0;36mFileIO._preread_check\u001B[0;34m(self)\u001B[0m\n\u001B[1;32m     73\u001B[0m \u001B[38;5;28;01mif\u001B[39;00m \u001B[38;5;129;01mnot\u001B[39;00m \u001B[38;5;28mself\u001B[39m\u001B[38;5;241m.\u001B[39m_read_check_passed:\n\u001B[1;32m     74\u001B[0m   \u001B[38;5;28;01mraise\u001B[39;00m errors\u001B[38;5;241m.\u001B[39mPermissionDeniedError(\u001B[38;5;28;01mNone\u001B[39;00m, \u001B[38;5;28;01mNone\u001B[39;00m,\n\u001B[1;32m     75\u001B[0m                                      \u001B[38;5;124m\"\u001B[39m\u001B[38;5;124mFile isn\u001B[39m\u001B[38;5;124m'\u001B[39m\u001B[38;5;124mt open for reading\u001B[39m\u001B[38;5;124m\"\u001B[39m)\n\u001B[0;32m---> 76\u001B[0m \u001B[38;5;28mself\u001B[39m\u001B[38;5;241m.\u001B[39m_read_buf \u001B[38;5;241m=\u001B[39m \u001B[43m_pywrap_file_io\u001B[49m\u001B[38;5;241;43m.\u001B[39;49m\u001B[43mBufferedInputStream\u001B[49m\u001B[43m(\u001B[49m\n\u001B[1;32m     77\u001B[0m \u001B[43m    \u001B[49m\u001B[43mcompat\u001B[49m\u001B[38;5;241;43m.\u001B[39;49m\u001B[43mpath_to_str\u001B[49m\u001B[43m(\u001B[49m\u001B[38;5;28;43mself\u001B[39;49m\u001B[38;5;241;43m.\u001B[39;49m\u001B[43m__name\u001B[49m\u001B[43m)\u001B[49m\u001B[43m,\u001B[49m\u001B[43m \u001B[49m\u001B[38;5;241;43m1024\u001B[39;49m\u001B[43m \u001B[49m\u001B[38;5;241;43m*\u001B[39;49m\u001B[43m \u001B[49m\u001B[38;5;241;43m512\u001B[39;49m\u001B[43m)\u001B[49m\n",
      "\u001B[0;31mNotFoundError\u001B[0m: Tensorflow/workspace/models/my_ssd_mobnet_15000/pipeline.config; No such file or directory"
     ]
    }
   ],
   "source": [
    "config = config_util.get_configs_from_pipeline_file(files['PIPELINE_CONFIG'])"
   ]
  },
  {
   "cell_type": "code",
   "execution_count": null,
   "metadata": {
    "colab": {
     "base_uri": "https://localhost:8080/"
    },
    "id": "uQA13-afpfDF",
    "outputId": "907496a4-a39d-4b13-8c2c-e5978ecb1f10",
    "pycharm": {
     "name": "#%%\n"
    }
   },
   "outputs": [],
   "source": [
    "# config"
   ]
  },
  {
   "cell_type": "code",
   "execution_count": 73,
   "metadata": {
    "id": "9vK5lotDpfDF",
    "pycharm": {
     "name": "#%%\n"
    }
   },
   "outputs": [],
   "source": [
    "pipeline_config = pipeline_pb2.TrainEvalPipelineConfig()\n",
    "with tf.io.gfile.GFile(files['PIPELINE_CONFIG'], \"r\") as f:\n",
    "    proto_str = f.read()\n",
    "    text_format.Merge(proto_str, pipeline_config)"
   ]
  },
  {
   "cell_type": "code",
   "execution_count": 74,
   "metadata": {
    "id": "rP43Ph0JpfDG",
    "pycharm": {
     "name": "#%%\n"
    }
   },
   "outputs": [],
   "source": [
    "pipeline_config.model.ssd.num_classes = len(labels)\n",
    "pipeline_config.train_config.batch_size = 4\n",
    "# pipeline_config.train_config.fine_tune_checkpoint = os.path.join(paths['PRETRAINED_MODEL_PATH'], PRETRAINED_MODEL_NAME, 'checkpoint', 'ckpt-0')\n",
    "pipeline_config.train_config.fine_tune_checkpoint_type = \"detection\"\n",
    "pipeline_config.train_input_reader.label_map_path = files['LABELMAP']\n",
    "pipeline_config.train_input_reader.tf_record_input_reader.input_path[:] = [\n",
    "    os.path.join(paths['ANNOTATION_PATH'], 'train.record')]\n",
    "pipeline_config.eval_input_reader[0].label_map_path = files['LABELMAP']\n",
    "# pipeline_config.eval_input_reader[0].tf_record_input_reader.input_path[:] = [os.path.join(paths['ANNOTATION_PATH'], 'test.record')]\n",
    "pipeline_config.eval_input_reader[0].tf_record_input_reader.input_path[:] = [\n",
    "    os.path.join(paths['ANNOTATION_PATH'], 'train.record')]\n"
   ]
  },
  {
   "cell_type": "code",
   "execution_count": 75,
   "metadata": {
    "id": "oJvfgwWqpfDG",
    "pycharm": {
     "name": "#%%\n"
    }
   },
   "outputs": [],
   "source": [
    "config_text = text_format.MessageToString(pipeline_config)\n",
    "with tf.io.gfile.GFile(files['PIPELINE_CONFIG'], \"wb\") as f:\n",
    "    f.write(config_text)"
   ]
  },
  {
   "cell_type": "markdown",
   "metadata": {
    "id": "Zr3ON7xMpfDG",
    "pycharm": {
     "name": "#%% md\n"
    }
   },
   "source": [
    "# 6. Train the model"
   ]
  },
  {
   "cell_type": "code",
   "execution_count": 5,
   "metadata": {
    "id": "B-Y2UQmQpfDG",
    "pycharm": {
     "name": "#%%\n"
    }
   },
   "outputs": [],
   "source": [
    "TRAINING_SCRIPT = os.path.join(paths['APIMODEL_PATH'], 'research', 'object_detection', 'model_main_tf2.py')"
   ]
  },
  {
   "cell_type": "code",
   "execution_count": 6,
   "metadata": {
    "id": "jMP2XDfQpfDH",
    "pycharm": {
     "name": "#%%\n"
    }
   },
   "outputs": [],
   "source": [
    "command = \"python {} --model_dir={} --pipeline_config_path={} --num_train_steps=4000\".format(TRAINING_SCRIPT,\n",
    "                                                                                             paths['CHECKPOINT_PATH'],\n",
    "                                                                                             files['PIPELINE_CONFIG'])"
   ]
  },
  {
   "cell_type": "code",
   "execution_count": 7,
   "metadata": {
    "colab": {
     "base_uri": "https://localhost:8080/"
    },
    "id": "A4OXXi-ApfDH",
    "outputId": "117a0e83-012b-466e-b7a6-ccaa349ac5ab",
    "pycharm": {
     "name": "#%%\n"
    }
   },
   "outputs": [
    {
     "name": "stdout",
     "output_type": "stream",
     "text": [
      "python Tensorflow/models/research/object_detection/model_main_tf2.py --model_dir=Tensorflow/workspace/models/my_ssd_mobnet_15000 --pipeline_config_path=Tensorflow/workspace/models/my_ssd_mobnet_15000/pipeline.config --num_train_steps=4000\n"
     ]
    }
   ],
   "source": [
    "print(command)"
   ]
  },
  {
   "cell_type": "code",
   "execution_count": 109,
   "metadata": {
    "pycharm": {
     "name": "#%%\n"
    }
   },
   "outputs": [
    {
     "name": "stdout",
     "output_type": "stream",
     "text": [
      "^C\n"
     ]
    }
   ],
   "source": [
    "!tensorboard --logdir=./ Tensorflow / workspace / models / my_ssd_mobnet / train"
   ]
  },
  {
   "cell_type": "code",
   "execution_count": 29,
   "metadata": {
    "colab": {
     "base_uri": "https://localhost:8080/"
    },
    "id": "i3ZsJR-qpfDH",
    "outputId": "cabec5e1-45e6-4f2f-d9cf-297d9c1d0225",
    "pycharm": {
     "name": "#%%\n"
    }
   },
   "outputs": [
    {
     "name": "stdout",
     "output_type": "stream",
     "text": [
      "^C\n"
     ]
    }
   ],
   "source": [
    "!{command}\n",
    "# pip install -U tf-models-official --user"
   ]
  },
  {
   "cell_type": "markdown",
   "metadata": {
    "id": "4_YRZu7npfDH",
    "pycharm": {
     "name": "#%% md\n"
    }
   },
   "source": [
    "# 7. Evaluate the Model"
   ]
  },
  {
   "cell_type": "code",
   "execution_count": 27,
   "metadata": {
    "id": "80L7-fdPpfDH",
    "pycharm": {
     "name": "#%%\n"
    }
   },
   "outputs": [],
   "source": [
    "command = \"python {} --model_dir={} --pipeline_config_path={} --checkpoint_dir={}\".format(TRAINING_SCRIPT,\n",
    "                                                                                          paths['CHECKPOINT_PATH'],\n",
    "                                                                                          files['PIPELINE_CONFIG'],\n",
    "                                                                                          paths['CHECKPOINT_PATH'])"
   ]
  },
  {
   "cell_type": "code",
   "execution_count": 28,
   "metadata": {
    "colab": {
     "base_uri": "https://localhost:8080/"
    },
    "id": "lYsgEPx9pfDH",
    "outputId": "8632d48b-91d2-45d9-bcb8-c1b172bf6eed",
    "pycharm": {
     "name": "#%%\n"
    }
   },
   "outputs": [
    {
     "name": "stdout",
     "output_type": "stream",
     "text": [
      "python Tensorflow\\models\\research\\object_detection\\model_main_tf2.py --model_dir=Tensorflow\\workspace\\models\\my_ssd_mobnet_8000 --pipeline_config_path=Tensorflow\\workspace\\models\\my_ssd_mobnet_8000\\pipeline.config --checkpoint_dir=Tensorflow\\workspace\\models\\my_ssd_mobnet_8000\n"
     ]
    }
   ],
   "source": [
    "print(command)"
   ]
  },
  {
   "cell_type": "code",
   "execution_count": 34,
   "metadata": {
    "id": "lqTV2jGBpfDH",
    "pycharm": {
     "name": "#%%\n"
    }
   },
   "outputs": [
    {
     "name": "stdout",
     "output_type": "stream",
     "text": [
      "^C\n"
     ]
    }
   ],
   "source": [
    "!{command}"
   ]
  },
  {
   "cell_type": "markdown",
   "source": [],
   "metadata": {
    "collapsed": false,
    "pycharm": {
     "name": "#%% md\n"
    }
   }
  }
 ],
 "metadata": {
  "accelerator": "GPU",
  "colab": {
   "name": "3. Training and Detection.ipynb",
   "provenance": []
  },
  "kernelspec": {
   "display_name": "Python 3.10.4 ('venv': venv)",
   "language": "python",
   "name": "python3"
  },
  "language_info": {
   "codemirror_mode": {
    "name": "ipython",
    "version": 3
   },
   "file_extension": ".py",
   "mimetype": "text/x-python",
   "name": "python",
   "nbconvert_exporter": "python",
   "pygments_lexer": "ipython3",
   "version": "3.10.4"
  },
  "vscode": {
   "interpreter": {
    "hash": "c661d2a83c11760b8df2691b9d8d046adc62170ad70f13d8b47703e63c0af0c8"
   }
  }
 },
 "nbformat": 4,
 "nbformat_minor": 1
}